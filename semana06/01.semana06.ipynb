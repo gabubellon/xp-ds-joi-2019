{
 "cells": [
  {
   "cell_type": "markdown",
   "metadata": {},
   "source": [
    "# Semana 6 Continuação Pensamento estatístico em Python"
   ]
  },
  {
   "cell_type": "markdown",
   "metadata": {},
   "source": [
    "# Import"
   ]
  },
  {
   "cell_type": "code",
   "execution_count": 4,
   "metadata": {
    "ExecuteTime": {
     "end_time": "2019-09-24T20:09:08.501236Z",
     "start_time": "2019-09-24T20:09:08.494801Z"
    }
   },
   "outputs": [],
   "source": [
    "import matplotlib.pyplot as plt\n",
    "import seaborn as sns\n",
    "import pandas as pd\n",
    "import numpy as np\n",
    "\n",
    "# sklearn !!!\n",
    "from sklearn.linear_model import LinearRegression\n",
    "from sklearn.feature_selection import RFE\n",
    "from sklearn.decomposition import PCA\n",
    "from sklearn import datasets\n",
    "from sklearn.preprocessing import LabelEncoder\n",
    "\n",
    "# Data Set de Examplo \n",
    "from sklearn.datasets import make_blobs"
   ]
  },
  {
   "cell_type": "markdown",
   "metadata": {},
   "source": [
    "## Dados de Exemplo"
   ]
  },
  {
   "cell_type": "code",
   "execution_count": 7,
   "metadata": {
    "ExecuteTime": {
     "end_time": "2019-09-24T20:09:37.293673Z",
     "start_time": "2019-09-24T20:09:37.288047Z"
    }
   },
   "outputs": [],
   "source": [
    "X1, Y1 = make_blobs(n_features=10, \n",
    "         n_samples=100,\n",
    "         centers=4, random_state=4,\n",
    "         cluster_std=2)"
   ]
  },
  {
   "cell_type": "code",
   "execution_count": 9,
   "metadata": {
    "ExecuteTime": {
     "end_time": "2019-09-24T20:09:54.086936Z",
     "start_time": "2019-09-24T20:09:54.052669Z"
    }
   },
   "outputs": [
    {
     "data": {
      "text/html": [
       "<div>\n",
       "<style scoped>\n",
       "    .dataframe tbody tr th:only-of-type {\n",
       "        vertical-align: middle;\n",
       "    }\n",
       "\n",
       "    .dataframe tbody tr th {\n",
       "        vertical-align: top;\n",
       "    }\n",
       "\n",
       "    .dataframe thead th {\n",
       "        text-align: right;\n",
       "    }\n",
       "</style>\n",
       "<table border=\"1\" class=\"dataframe\">\n",
       "  <thead>\n",
       "    <tr style=\"text-align: right;\">\n",
       "      <th></th>\n",
       "      <th>0</th>\n",
       "      <th>1</th>\n",
       "      <th>2</th>\n",
       "      <th>3</th>\n",
       "      <th>4</th>\n",
       "      <th>5</th>\n",
       "      <th>6</th>\n",
       "      <th>7</th>\n",
       "      <th>8</th>\n",
       "      <th>9</th>\n",
       "    </tr>\n",
       "  </thead>\n",
       "  <tbody>\n",
       "    <tr>\n",
       "      <td>0</td>\n",
       "      <td>1.111460</td>\n",
       "      <td>10.625660</td>\n",
       "      <td>6.917054</td>\n",
       "      <td>7.240412</td>\n",
       "      <td>-7.504841</td>\n",
       "      <td>-10.294909</td>\n",
       "      <td>0.873230</td>\n",
       "      <td>-6.752584</td>\n",
       "      <td>2.724180</td>\n",
       "      <td>0.136606</td>\n",
       "    </tr>\n",
       "    <tr>\n",
       "      <td>1</td>\n",
       "      <td>3.922212</td>\n",
       "      <td>-5.457902</td>\n",
       "      <td>6.037059</td>\n",
       "      <td>10.372529</td>\n",
       "      <td>-3.383697</td>\n",
       "      <td>5.837285</td>\n",
       "      <td>-8.166151</td>\n",
       "      <td>-1.318083</td>\n",
       "      <td>-9.058159</td>\n",
       "      <td>9.955288</td>\n",
       "    </tr>\n",
       "    <tr>\n",
       "      <td>2</td>\n",
       "      <td>8.998367</td>\n",
       "      <td>1.313214</td>\n",
       "      <td>8.651334</td>\n",
       "      <td>6.086529</td>\n",
       "      <td>0.962872</td>\n",
       "      <td>-7.069004</td>\n",
       "      <td>9.286666</td>\n",
       "      <td>-11.965042</td>\n",
       "      <td>-4.219077</td>\n",
       "      <td>-4.333978</td>\n",
       "    </tr>\n",
       "    <tr>\n",
       "      <td>3</td>\n",
       "      <td>0.076301</td>\n",
       "      <td>8.199190</td>\n",
       "      <td>-2.716994</td>\n",
       "      <td>-7.578235</td>\n",
       "      <td>-7.772931</td>\n",
       "      <td>-3.542986</td>\n",
       "      <td>4.285229</td>\n",
       "      <td>3.948615</td>\n",
       "      <td>-1.028294</td>\n",
       "      <td>3.300239</td>\n",
       "    </tr>\n",
       "    <tr>\n",
       "      <td>4</td>\n",
       "      <td>8.947106</td>\n",
       "      <td>2.617702</td>\n",
       "      <td>11.026892</td>\n",
       "      <td>0.614568</td>\n",
       "      <td>4.029671</td>\n",
       "      <td>-5.606354</td>\n",
       "      <td>7.968009</td>\n",
       "      <td>-9.516573</td>\n",
       "      <td>-7.851421</td>\n",
       "      <td>-0.191799</td>\n",
       "    </tr>\n",
       "    <tr>\n",
       "      <td>...</td>\n",
       "      <td>...</td>\n",
       "      <td>...</td>\n",
       "      <td>...</td>\n",
       "      <td>...</td>\n",
       "      <td>...</td>\n",
       "      <td>...</td>\n",
       "      <td>...</td>\n",
       "      <td>...</td>\n",
       "      <td>...</td>\n",
       "      <td>...</td>\n",
       "    </tr>\n",
       "    <tr>\n",
       "      <td>95</td>\n",
       "      <td>10.567662</td>\n",
       "      <td>0.524332</td>\n",
       "      <td>10.269804</td>\n",
       "      <td>7.761117</td>\n",
       "      <td>3.255681</td>\n",
       "      <td>-8.144484</td>\n",
       "      <td>10.962038</td>\n",
       "      <td>-8.842276</td>\n",
       "      <td>-3.592750</td>\n",
       "      <td>0.748741</td>\n",
       "    </tr>\n",
       "    <tr>\n",
       "      <td>96</td>\n",
       "      <td>1.183529</td>\n",
       "      <td>-0.472691</td>\n",
       "      <td>9.285023</td>\n",
       "      <td>10.385595</td>\n",
       "      <td>-1.168886</td>\n",
       "      <td>1.796147</td>\n",
       "      <td>-6.928412</td>\n",
       "      <td>-2.243654</td>\n",
       "      <td>-9.668088</td>\n",
       "      <td>10.398088</td>\n",
       "    </tr>\n",
       "    <tr>\n",
       "      <td>97</td>\n",
       "      <td>3.196211</td>\n",
       "      <td>9.309694</td>\n",
       "      <td>-1.049454</td>\n",
       "      <td>-7.360667</td>\n",
       "      <td>-7.631621</td>\n",
       "      <td>-3.495608</td>\n",
       "      <td>0.262089</td>\n",
       "      <td>0.415383</td>\n",
       "      <td>0.682991</td>\n",
       "      <td>3.778166</td>\n",
       "    </tr>\n",
       "    <tr>\n",
       "      <td>98</td>\n",
       "      <td>10.997585</td>\n",
       "      <td>-5.866190</td>\n",
       "      <td>8.500031</td>\n",
       "      <td>14.127744</td>\n",
       "      <td>-5.464811</td>\n",
       "      <td>3.456962</td>\n",
       "      <td>-10.164113</td>\n",
       "      <td>-1.317980</td>\n",
       "      <td>-11.215773</td>\n",
       "      <td>8.993967</td>\n",
       "    </tr>\n",
       "    <tr>\n",
       "      <td>99</td>\n",
       "      <td>0.858038</td>\n",
       "      <td>8.887642</td>\n",
       "      <td>7.088497</td>\n",
       "      <td>7.289334</td>\n",
       "      <td>-5.732375</td>\n",
       "      <td>-5.328939</td>\n",
       "      <td>0.275536</td>\n",
       "      <td>-9.026527</td>\n",
       "      <td>5.571498</td>\n",
       "      <td>-2.993645</td>\n",
       "    </tr>\n",
       "  </tbody>\n",
       "</table>\n",
       "<p>100 rows × 10 columns</p>\n",
       "</div>"
      ],
      "text/plain": [
       "            0          1          2          3         4          5  \\\n",
       "0    1.111460  10.625660   6.917054   7.240412 -7.504841 -10.294909   \n",
       "1    3.922212  -5.457902   6.037059  10.372529 -3.383697   5.837285   \n",
       "2    8.998367   1.313214   8.651334   6.086529  0.962872  -7.069004   \n",
       "3    0.076301   8.199190  -2.716994  -7.578235 -7.772931  -3.542986   \n",
       "4    8.947106   2.617702  11.026892   0.614568  4.029671  -5.606354   \n",
       "..        ...        ...        ...        ...       ...        ...   \n",
       "95  10.567662   0.524332  10.269804   7.761117  3.255681  -8.144484   \n",
       "96   1.183529  -0.472691   9.285023  10.385595 -1.168886   1.796147   \n",
       "97   3.196211   9.309694  -1.049454  -7.360667 -7.631621  -3.495608   \n",
       "98  10.997585  -5.866190   8.500031  14.127744 -5.464811   3.456962   \n",
       "99   0.858038   8.887642   7.088497   7.289334 -5.732375  -5.328939   \n",
       "\n",
       "            6          7          8          9  \n",
       "0    0.873230  -6.752584   2.724180   0.136606  \n",
       "1   -8.166151  -1.318083  -9.058159   9.955288  \n",
       "2    9.286666 -11.965042  -4.219077  -4.333978  \n",
       "3    4.285229   3.948615  -1.028294   3.300239  \n",
       "4    7.968009  -9.516573  -7.851421  -0.191799  \n",
       "..        ...        ...        ...        ...  \n",
       "95  10.962038  -8.842276  -3.592750   0.748741  \n",
       "96  -6.928412  -2.243654  -9.668088  10.398088  \n",
       "97   0.262089   0.415383   0.682991   3.778166  \n",
       "98 -10.164113  -1.317980 -11.215773   8.993967  \n",
       "99   0.275536  -9.026527   5.571498  -2.993645  \n",
       "\n",
       "[100 rows x 10 columns]"
      ]
     },
     "execution_count": 9,
     "metadata": {},
     "output_type": "execute_result"
    }
   ],
   "source": [
    "pd.DataFrame(X1)"
   ]
  },
  {
   "cell_type": "code",
   "execution_count": 11,
   "metadata": {
    "ExecuteTime": {
     "end_time": "2019-09-24T20:10:07.946377Z",
     "start_time": "2019-09-24T20:10:07.936479Z"
    }
   },
   "outputs": [
    {
     "data": {
      "text/html": [
       "<div>\n",
       "<style scoped>\n",
       "    .dataframe tbody tr th:only-of-type {\n",
       "        vertical-align: middle;\n",
       "    }\n",
       "\n",
       "    .dataframe tbody tr th {\n",
       "        vertical-align: top;\n",
       "    }\n",
       "\n",
       "    .dataframe thead th {\n",
       "        text-align: right;\n",
       "    }\n",
       "</style>\n",
       "<table border=\"1\" class=\"dataframe\">\n",
       "  <thead>\n",
       "    <tr style=\"text-align: right;\">\n",
       "      <th></th>\n",
       "      <th>0</th>\n",
       "    </tr>\n",
       "  </thead>\n",
       "  <tbody>\n",
       "    <tr>\n",
       "      <td>0</td>\n",
       "      <td>2</td>\n",
       "    </tr>\n",
       "    <tr>\n",
       "      <td>1</td>\n",
       "      <td>1</td>\n",
       "    </tr>\n",
       "    <tr>\n",
       "      <td>2</td>\n",
       "      <td>0</td>\n",
       "    </tr>\n",
       "    <tr>\n",
       "      <td>3</td>\n",
       "      <td>3</td>\n",
       "    </tr>\n",
       "    <tr>\n",
       "      <td>4</td>\n",
       "      <td>0</td>\n",
       "    </tr>\n",
       "    <tr>\n",
       "      <td>...</td>\n",
       "      <td>...</td>\n",
       "    </tr>\n",
       "    <tr>\n",
       "      <td>95</td>\n",
       "      <td>0</td>\n",
       "    </tr>\n",
       "    <tr>\n",
       "      <td>96</td>\n",
       "      <td>1</td>\n",
       "    </tr>\n",
       "    <tr>\n",
       "      <td>97</td>\n",
       "      <td>3</td>\n",
       "    </tr>\n",
       "    <tr>\n",
       "      <td>98</td>\n",
       "      <td>1</td>\n",
       "    </tr>\n",
       "    <tr>\n",
       "      <td>99</td>\n",
       "      <td>2</td>\n",
       "    </tr>\n",
       "  </tbody>\n",
       "</table>\n",
       "<p>100 rows × 1 columns</p>\n",
       "</div>"
      ],
      "text/plain": [
       "    0\n",
       "0   2\n",
       "1   1\n",
       "2   0\n",
       "3   3\n",
       "4   0\n",
       ".. ..\n",
       "95  0\n",
       "96  1\n",
       "97  3\n",
       "98  1\n",
       "99  2\n",
       "\n",
       "[100 rows x 1 columns]"
      ]
     },
     "execution_count": 11,
     "metadata": {},
     "output_type": "execute_result"
    }
   ],
   "source": [
    "pd.DataFrame(Y1)"
   ]
  },
  {
   "cell_type": "markdown",
   "metadata": {},
   "source": [
    "### PCA"
   ]
  },
  {
   "cell_type": "code",
   "execution_count": 12,
   "metadata": {
    "ExecuteTime": {
     "end_time": "2019-09-24T20:10:42.329899Z",
     "start_time": "2019-09-24T20:10:42.326125Z"
    }
   },
   "outputs": [],
   "source": [
    "#Criando um objeto PCA\n",
    "pca = PCA()"
   ]
  },
  {
   "cell_type": "code",
   "execution_count": 13,
   "metadata": {
    "ExecuteTime": {
     "end_time": "2019-09-24T20:10:58.956600Z",
     "start_time": "2019-09-24T20:10:58.944537Z"
    }
   },
   "outputs": [],
   "source": [
    "#Transformando os dados\n",
    "pca_var = pca.fit_transform(X1)"
   ]
  },
  {
   "cell_type": "code",
   "execution_count": 25,
   "metadata": {
    "ExecuteTime": {
     "end_time": "2019-09-24T20:15:47.092596Z",
     "start_time": "2019-09-24T20:15:47.073426Z"
    }
   },
   "outputs": [
    {
     "data": {
      "text/html": [
       "<div>\n",
       "<style scoped>\n",
       "    .dataframe tbody tr th:only-of-type {\n",
       "        vertical-align: middle;\n",
       "    }\n",
       "\n",
       "    .dataframe tbody tr th {\n",
       "        vertical-align: top;\n",
       "    }\n",
       "\n",
       "    .dataframe thead th {\n",
       "        text-align: right;\n",
       "    }\n",
       "</style>\n",
       "<table border=\"1\" class=\"dataframe\">\n",
       "  <thead>\n",
       "    <tr style=\"text-align: right;\">\n",
       "      <th></th>\n",
       "      <th>0</th>\n",
       "      <th>1</th>\n",
       "      <th>2</th>\n",
       "      <th>3</th>\n",
       "      <th>4</th>\n",
       "      <th>5</th>\n",
       "      <th>6</th>\n",
       "      <th>7</th>\n",
       "      <th>8</th>\n",
       "      <th>9</th>\n",
       "      <th>Cluster</th>\n",
       "    </tr>\n",
       "  </thead>\n",
       "  <tbody>\n",
       "    <tr>\n",
       "      <td>0</td>\n",
       "      <td>-8.133443</td>\n",
       "      <td>-0.302138</td>\n",
       "      <td>9.984672</td>\n",
       "      <td>0.423878</td>\n",
       "      <td>-0.211825</td>\n",
       "      <td>-0.427672</td>\n",
       "      <td>-0.383225</td>\n",
       "      <td>-3.118039</td>\n",
       "      <td>2.837921</td>\n",
       "      <td>0.197573</td>\n",
       "      <td>2</td>\n",
       "    </tr>\n",
       "    <tr>\n",
       "      <td>1</td>\n",
       "      <td>18.931381</td>\n",
       "      <td>0.193838</td>\n",
       "      <td>0.045462</td>\n",
       "      <td>-3.894042</td>\n",
       "      <td>2.302912</td>\n",
       "      <td>-0.929933</td>\n",
       "      <td>-0.065279</td>\n",
       "      <td>1.942375</td>\n",
       "      <td>-1.450321</td>\n",
       "      <td>0.077149</td>\n",
       "      <td>1</td>\n",
       "    </tr>\n",
       "    <tr>\n",
       "      <td>2</td>\n",
       "      <td>-6.571463</td>\n",
       "      <td>-14.188490</td>\n",
       "      <td>-3.120115</td>\n",
       "      <td>1.278588</td>\n",
       "      <td>0.531899</td>\n",
       "      <td>3.679456</td>\n",
       "      <td>0.242498</td>\n",
       "      <td>-0.969503</td>\n",
       "      <td>-0.532099</td>\n",
       "      <td>0.217478</td>\n",
       "      <td>0</td>\n",
       "    </tr>\n",
       "    <tr>\n",
       "      <td>3</td>\n",
       "      <td>-7.533948</td>\n",
       "      <td>14.439427</td>\n",
       "      <td>-5.443487</td>\n",
       "      <td>3.358252</td>\n",
       "      <td>2.620555</td>\n",
       "      <td>-1.878371</td>\n",
       "      <td>-2.625992</td>\n",
       "      <td>0.102774</td>\n",
       "      <td>-2.077219</td>\n",
       "      <td>1.325812</td>\n",
       "      <td>3</td>\n",
       "    </tr>\n",
       "    <tr>\n",
       "      <td>4</td>\n",
       "      <td>-4.591760</td>\n",
       "      <td>-11.315284</td>\n",
       "      <td>-9.130630</td>\n",
       "      <td>-1.420151</td>\n",
       "      <td>-1.436138</td>\n",
       "      <td>0.244743</td>\n",
       "      <td>-1.554324</td>\n",
       "      <td>-2.531840</td>\n",
       "      <td>1.885560</td>\n",
       "      <td>-1.819921</td>\n",
       "      <td>0</td>\n",
       "    </tr>\n",
       "  </tbody>\n",
       "</table>\n",
       "</div>"
      ],
      "text/plain": [
       "           0          1         2         3         4         5         6  \\\n",
       "0  -8.133443  -0.302138  9.984672  0.423878 -0.211825 -0.427672 -0.383225   \n",
       "1  18.931381   0.193838  0.045462 -3.894042  2.302912 -0.929933 -0.065279   \n",
       "2  -6.571463 -14.188490 -3.120115  1.278588  0.531899  3.679456  0.242498   \n",
       "3  -7.533948  14.439427 -5.443487  3.358252  2.620555 -1.878371 -2.625992   \n",
       "4  -4.591760 -11.315284 -9.130630 -1.420151 -1.436138  0.244743 -1.554324   \n",
       "\n",
       "          7         8         9  Cluster  \n",
       "0 -3.118039  2.837921  0.197573        2  \n",
       "1  1.942375 -1.450321  0.077149        1  \n",
       "2 -0.969503 -0.532099  0.217478        0  \n",
       "3  0.102774 -2.077219  1.325812        3  \n",
       "4 -2.531840  1.885560 -1.819921        0  "
      ]
     },
     "execution_count": 25,
     "metadata": {},
     "output_type": "execute_result"
    }
   ],
   "source": [
    "#Um DataFrame\n",
    "pc_df = pd.DataFrame(data = pca_var )\n",
    "pc_df['Cluster'] = Y1\n",
    "pc_df.head()"
   ]
  },
  {
   "cell_type": "code",
   "execution_count": 37,
   "metadata": {
    "ExecuteTime": {
     "end_time": "2019-09-24T20:21:42.403313Z",
     "start_time": "2019-09-24T20:21:42.397365Z"
    }
   },
   "outputs": [
    {
     "data": {
      "text/plain": [
       "array([0.41594854, 0.3391866 , 0.1600729 , 0.02016822])"
      ]
     },
     "execution_count": 37,
     "metadata": {},
     "output_type": "execute_result"
    }
   ],
   "source": [
    "pca.explained_variance_ratio_"
   ]
  },
  {
   "cell_type": "code",
   "execution_count": 27,
   "metadata": {
    "ExecuteTime": {
     "end_time": "2019-09-24T20:16:08.662634Z",
     "start_time": "2019-09-24T20:16:08.363777Z"
    }
   },
   "outputs": [
    {
     "data": {
      "image/png": "[encoded data removed]",
      "text/plain": [
       "<Figure size 432x288 with 1 Axes>"
      ]
     },
     "metadata": {
      "needs_background": "light"
     },
     "output_type": "display_data"
    }
   ],
   "source": [
    "df = pd.DataFrame({'var':pca.explained_variance_ratio_,'PC':pc_df.columns[:-1]})\n",
    "sns.barplot(x='PC',y=\"var\", data=df, color=\"c\");"
   ]
  },
  {
   "cell_type": "code",
   "execution_count": 41,
   "metadata": {
    "ExecuteTime": {
     "end_time": "2019-09-24T20:23:30.992768Z",
     "start_time": "2019-09-24T20:23:30.742166Z"
    }
   },
   "outputs": [
    {
     "data": {
      "image/png": "[encoded data removed]",
      "text/plain": [
       "<Figure size 720x360 with 1 Axes>"
      ]
     },
     "metadata": {
      "needs_background": "light"
     },
     "output_type": "display_data"
    }
   ],
   "source": [
    "#Gráfico de componestes x explicacão\n",
    "plt.figure(figsize=(10,5))\n",
    "g = sns.lineplot(np.arange(len(pca.explained_variance_ratio_)), np.cumsum(pca.explained_variance_ratio_))\n",
    "g.axes.axhline(0.80, ls=\"--\", color=\"red\")\n",
    "plt.xlabel('Number of components')\n",
    "plt.ylabel('Cumulative explained variance')\n",
    "plt.show()"
   ]
  },
  {
   "cell_type": "code",
   "execution_count": 34,
   "metadata": {
    "ExecuteTime": {
     "end_time": "2019-09-24T20:20:26.318869Z",
     "start_time": "2019-09-24T20:20:25.932756Z"
    }
   },
   "outputs": [
    {
     "data": {
      "text/plain": [
       "<seaborn.axisgrid.FacetGrid at 0x123304940>"
      ]
     },
     "execution_count": 34,
     "metadata": {},
     "output_type": "execute_result"
    },
    {
     "data": {
      "image/png": "[encoded data removed]",
      "text/plain": [
       "<Figure size 403.5x360 with 1 Axes>"
      ]
     },
     "metadata": {
      "needs_background": "light"
     },
     "output_type": "display_data"
    }
   ],
   "source": [
    "pca = PCA(4)\n",
    "pca_var = pca.fit_transform(X1)\n",
    "\n",
    "#Um DataFrame\n",
    "pc_df = pd.DataFrame(data = pca_var, columns=['PC1','PC2','PC3','PC4'] )\n",
    "pc_df['Cluster'] = Y1\n",
    "\n",
    "sns.lmplot( x=\"PC1\", y=\"PC2\",\n",
    "  data=pc_df, \n",
    "  fit_reg=False, \n",
    "  hue='Cluster', # color by cluster\n",
    "  legend=True,\n",
    "  scatter_kws={\"s\": 80}) # specify the point size"
   ]
  },
  {
   "cell_type": "markdown",
   "metadata": {},
   "source": [
    "## Brincando com Flores"
   ]
  },
  {
   "cell_type": "code",
   "execution_count": 49,
   "metadata": {
    "ExecuteTime": {
     "end_time": "2019-09-24T20:26:09.664930Z",
     "start_time": "2019-09-24T20:26:08.378906Z"
    }
   },
   "outputs": [],
   "source": [
    "url = \"https://archive.ics.uci.edu/ml/machine-learning-databases/iris/iris.data\"\n",
    "# load dataset into Pandas DataFrame\n",
    "iris_df = pd.read_csv(url, names=['sepal length','sepal width','petal length','petal width','target'])"
   ]
  },
  {
   "cell_type": "code",
   "execution_count": 46,
   "metadata": {
    "ExecuteTime": {
     "end_time": "2019-09-24T20:24:29.275445Z",
     "start_time": "2019-09-24T20:24:29.263151Z"
    }
   },
   "outputs": [
    {
     "data": {
      "text/html": [
       "<div>\n",
       "<style scoped>\n",
       "    .dataframe tbody tr th:only-of-type {\n",
       "        vertical-align: middle;\n",
       "    }\n",
       "\n",
       "    .dataframe tbody tr th {\n",
       "        vertical-align: top;\n",
       "    }\n",
       "\n",
       "    .dataframe thead th {\n",
       "        text-align: right;\n",
       "    }\n",
       "</style>\n",
       "<table border=\"1\" class=\"dataframe\">\n",
       "  <thead>\n",
       "    <tr style=\"text-align: right;\">\n",
       "      <th></th>\n",
       "      <th>sepal length</th>\n",
       "      <th>sepal width</th>\n",
       "      <th>petal length</th>\n",
       "      <th>petal width</th>\n",
       "      <th>target</th>\n",
       "    </tr>\n",
       "  </thead>\n",
       "  <tbody>\n",
       "    <tr>\n",
       "      <td>0</td>\n",
       "      <td>5.1</td>\n",
       "      <td>3.5</td>\n",
       "      <td>1.4</td>\n",
       "      <td>0.2</td>\n",
       "      <td>Iris-setosa</td>\n",
       "    </tr>\n",
       "    <tr>\n",
       "      <td>1</td>\n",
       "      <td>4.9</td>\n",
       "      <td>3.0</td>\n",
       "      <td>1.4</td>\n",
       "      <td>0.2</td>\n",
       "      <td>Iris-setosa</td>\n",
       "    </tr>\n",
       "    <tr>\n",
       "      <td>2</td>\n",
       "      <td>4.7</td>\n",
       "      <td>3.2</td>\n",
       "      <td>1.3</td>\n",
       "      <td>0.2</td>\n",
       "      <td>Iris-setosa</td>\n",
       "    </tr>\n",
       "  </tbody>\n",
       "</table>\n",
       "</div>"
      ],
      "text/plain": [
       "   sepal length  sepal width  petal length  petal width       target\n",
       "0           5.1          3.5           1.4          0.2  Iris-setosa\n",
       "1           4.9          3.0           1.4          0.2  Iris-setosa\n",
       "2           4.7          3.2           1.3          0.2  Iris-setosa"
      ]
     },
     "execution_count": 46,
     "metadata": {},
     "output_type": "execute_result"
    }
   ],
   "source": [
    "iris_df.head(3)"
   ]
  },
  {
   "cell_type": "code",
   "execution_count": 47,
   "metadata": {
    "ExecuteTime": {
     "end_time": "2019-09-24T20:24:33.960644Z",
     "start_time": "2019-09-24T20:24:33.926190Z"
    }
   },
   "outputs": [
    {
     "data": {
      "text/html": [
       "<div>\n",
       "<style scoped>\n",
       "    .dataframe tbody tr th:only-of-type {\n",
       "        vertical-align: middle;\n",
       "    }\n",
       "\n",
       "    .dataframe tbody tr th {\n",
       "        vertical-align: top;\n",
       "    }\n",
       "\n",
       "    .dataframe thead th {\n",
       "        text-align: right;\n",
       "    }\n",
       "</style>\n",
       "<table border=\"1\" class=\"dataframe\">\n",
       "  <thead>\n",
       "    <tr style=\"text-align: right;\">\n",
       "      <th></th>\n",
       "      <th>sepal length</th>\n",
       "      <th>sepal width</th>\n",
       "      <th>petal length</th>\n",
       "      <th>petal width</th>\n",
       "    </tr>\n",
       "  </thead>\n",
       "  <tbody>\n",
       "    <tr>\n",
       "      <td>count</td>\n",
       "      <td>150.000000</td>\n",
       "      <td>150.000000</td>\n",
       "      <td>150.000000</td>\n",
       "      <td>150.000000</td>\n",
       "    </tr>\n",
       "    <tr>\n",
       "      <td>mean</td>\n",
       "      <td>5.843333</td>\n",
       "      <td>3.054000</td>\n",
       "      <td>3.758667</td>\n",
       "      <td>1.198667</td>\n",
       "    </tr>\n",
       "    <tr>\n",
       "      <td>std</td>\n",
       "      <td>0.828066</td>\n",
       "      <td>0.433594</td>\n",
       "      <td>1.764420</td>\n",
       "      <td>0.763161</td>\n",
       "    </tr>\n",
       "    <tr>\n",
       "      <td>min</td>\n",
       "      <td>4.300000</td>\n",
       "      <td>2.000000</td>\n",
       "      <td>1.000000</td>\n",
       "      <td>0.100000</td>\n",
       "    </tr>\n",
       "    <tr>\n",
       "      <td>25%</td>\n",
       "      <td>5.100000</td>\n",
       "      <td>2.800000</td>\n",
       "      <td>1.600000</td>\n",
       "      <td>0.300000</td>\n",
       "    </tr>\n",
       "    <tr>\n",
       "      <td>50%</td>\n",
       "      <td>5.800000</td>\n",
       "      <td>3.000000</td>\n",
       "      <td>4.350000</td>\n",
       "      <td>1.300000</td>\n",
       "    </tr>\n",
       "    <tr>\n",
       "      <td>75%</td>\n",
       "      <td>6.400000</td>\n",
       "      <td>3.300000</td>\n",
       "      <td>5.100000</td>\n",
       "      <td>1.800000</td>\n",
       "    </tr>\n",
       "    <tr>\n",
       "      <td>max</td>\n",
       "      <td>7.900000</td>\n",
       "      <td>4.400000</td>\n",
       "      <td>6.900000</td>\n",
       "      <td>2.500000</td>\n",
       "    </tr>\n",
       "  </tbody>\n",
       "</table>\n",
       "</div>"
      ],
      "text/plain": [
       "       sepal length  sepal width  petal length  petal width\n",
       "count    150.000000   150.000000    150.000000   150.000000\n",
       "mean       5.843333     3.054000      3.758667     1.198667\n",
       "std        0.828066     0.433594      1.764420     0.763161\n",
       "min        4.300000     2.000000      1.000000     0.100000\n",
       "25%        5.100000     2.800000      1.600000     0.300000\n",
       "50%        5.800000     3.000000      4.350000     1.300000\n",
       "75%        6.400000     3.300000      5.100000     1.800000\n",
       "max        7.900000     4.400000      6.900000     2.500000"
      ]
     },
     "execution_count": 47,
     "metadata": {},
     "output_type": "execute_result"
    }
   ],
   "source": [
    "iris_df.describe()"
   ]
  },
  {
   "cell_type": "code",
   "execution_count": 57,
   "metadata": {
    "ExecuteTime": {
     "end_time": "2019-09-24T20:33:39.682799Z",
     "start_time": "2019-09-24T20:33:39.676495Z"
    }
   },
   "outputs": [],
   "source": [
    "# Dados que explicam \n",
    "features = ['sepal width', 'petal length', 'petal width','sepal length']\n",
    "iris_features = iris_df.loc[:, features]\n",
    "# O que quero prevre\n",
    "iris_target = df.loc[:,['target']]"
   ]
  },
  {
   "cell_type": "code",
   "execution_count": 80,
   "metadata": {
    "ExecuteTime": {
     "end_time": "2019-09-24T20:44:05.078689Z",
     "start_time": "2019-09-24T20:44:05.059364Z"
    }
   },
   "outputs": [
    {
     "data": {
      "text/html": [
       "<div>\n",
       "<style scoped>\n",
       "    .dataframe tbody tr th:only-of-type {\n",
       "        vertical-align: middle;\n",
       "    }\n",
       "\n",
       "    .dataframe tbody tr th {\n",
       "        vertical-align: top;\n",
       "    }\n",
       "\n",
       "    .dataframe thead th {\n",
       "        text-align: right;\n",
       "    }\n",
       "</style>\n",
       "<table border=\"1\" class=\"dataframe\">\n",
       "  <thead>\n",
       "    <tr style=\"text-align: right;\">\n",
       "      <th></th>\n",
       "      <th>0</th>\n",
       "      <th>1</th>\n",
       "      <th>2</th>\n",
       "      <th>3</th>\n",
       "    </tr>\n",
       "  </thead>\n",
       "  <tbody>\n",
       "    <tr>\n",
       "      <td>0</td>\n",
       "      <td>-2.684207</td>\n",
       "      <td>0.326607</td>\n",
       "      <td>-0.021512</td>\n",
       "      <td>0.001006</td>\n",
       "    </tr>\n",
       "    <tr>\n",
       "      <td>1</td>\n",
       "      <td>-2.715391</td>\n",
       "      <td>-0.169557</td>\n",
       "      <td>-0.203521</td>\n",
       "      <td>0.099602</td>\n",
       "    </tr>\n",
       "    <tr>\n",
       "      <td>2</td>\n",
       "      <td>-2.889820</td>\n",
       "      <td>-0.137346</td>\n",
       "      <td>0.024709</td>\n",
       "      <td>0.019305</td>\n",
       "    </tr>\n",
       "    <tr>\n",
       "      <td>3</td>\n",
       "      <td>-2.746437</td>\n",
       "      <td>-0.311124</td>\n",
       "      <td>0.037672</td>\n",
       "      <td>-0.075955</td>\n",
       "    </tr>\n",
       "    <tr>\n",
       "      <td>4</td>\n",
       "      <td>-2.728593</td>\n",
       "      <td>0.333925</td>\n",
       "      <td>0.096230</td>\n",
       "      <td>-0.063129</td>\n",
       "    </tr>\n",
       "    <tr>\n",
       "      <td>...</td>\n",
       "      <td>...</td>\n",
       "      <td>...</td>\n",
       "      <td>...</td>\n",
       "      <td>...</td>\n",
       "    </tr>\n",
       "    <tr>\n",
       "      <td>145</td>\n",
       "      <td>1.944017</td>\n",
       "      <td>0.187415</td>\n",
       "      <td>0.179303</td>\n",
       "      <td>0.425082</td>\n",
       "    </tr>\n",
       "    <tr>\n",
       "      <td>146</td>\n",
       "      <td>1.525664</td>\n",
       "      <td>-0.375021</td>\n",
       "      <td>-0.120636</td>\n",
       "      <td>0.255723</td>\n",
       "    </tr>\n",
       "    <tr>\n",
       "      <td>147</td>\n",
       "      <td>1.764046</td>\n",
       "      <td>0.078519</td>\n",
       "      <td>0.130784</td>\n",
       "      <td>0.136295</td>\n",
       "    </tr>\n",
       "    <tr>\n",
       "      <td>148</td>\n",
       "      <td>1.901629</td>\n",
       "      <td>0.115877</td>\n",
       "      <td>0.722874</td>\n",
       "      <td>0.040873</td>\n",
       "    </tr>\n",
       "    <tr>\n",
       "      <td>149</td>\n",
       "      <td>1.389666</td>\n",
       "      <td>-0.282887</td>\n",
       "      <td>0.362318</td>\n",
       "      <td>-0.156310</td>\n",
       "    </tr>\n",
       "  </tbody>\n",
       "</table>\n",
       "<p>150 rows × 4 columns</p>\n",
       "</div>"
      ],
      "text/plain": [
       "            0         1         2         3\n",
       "0   -2.684207  0.326607 -0.021512  0.001006\n",
       "1   -2.715391 -0.169557 -0.203521  0.099602\n",
       "2   -2.889820 -0.137346  0.024709  0.019305\n",
       "3   -2.746437 -0.311124  0.037672 -0.075955\n",
       "4   -2.728593  0.333925  0.096230 -0.063129\n",
       "..        ...       ...       ...       ...\n",
       "145  1.944017  0.187415  0.179303  0.425082\n",
       "146  1.525664 -0.375021 -0.120636  0.255723\n",
       "147  1.764046  0.078519  0.130784  0.136295\n",
       "148  1.901629  0.115877  0.722874  0.040873\n",
       "149  1.389666 -0.282887  0.362318 -0.156310\n",
       "\n",
       "[150 rows x 4 columns]"
      ]
     },
     "execution_count": 80,
     "metadata": {},
     "output_type": "execute_result"
    }
   ],
   "source": [
    "pca_iris_0 = PCA()\n",
    "principalComponents_0 = pca_iris_0.fit_transform(iris_features)\n",
    "principalDf_0 = pd.DataFrame(data = principalComponents_0)\n",
    "principalDf_0"
   ]
  },
  {
   "cell_type": "code",
   "execution_count": 82,
   "metadata": {
    "ExecuteTime": {
     "end_time": "2019-09-24T20:46:44.013756Z",
     "start_time": "2019-09-24T20:46:43.736518Z"
    }
   },
   "outputs": [
    {
     "data": {
      "image/png": "[encoded data removed]",
      "text/plain": [
       "<Figure size 720x360 with 1 Axes>"
      ]
     },
     "metadata": {
      "needs_background": "light"
     },
     "output_type": "display_data"
    }
   ],
   "source": [
    "#Gráfico de componestes x explicacão\n",
    "plt.figure(figsize=(10,5))\n",
    "iris_g = sns.lineplot(np.arange(len(pca_iris_0.explained_variance_ratio_)), np.cumsum(pca_iris_0.explained_variance_ratio_))\n",
    "iris_g.axes.axhline(0.95, ls=\"--\", color=\"red\")\n",
    "plt.xlabel('Number of components')\n",
    "plt.ylabel('Cumulative explained variance')\n",
    "plt.show()"
   ]
  },
  {
   "cell_type": "code",
   "execution_count": 83,
   "metadata": {
    "ExecuteTime": {
     "end_time": "2019-09-24T20:46:54.821517Z",
     "start_time": "2019-09-24T20:46:54.806358Z"
    }
   },
   "outputs": [
    {
     "data": {
      "text/html": [
       "<div>\n",
       "<style scoped>\n",
       "    .dataframe tbody tr th:only-of-type {\n",
       "        vertical-align: middle;\n",
       "    }\n",
       "\n",
       "    .dataframe tbody tr th {\n",
       "        vertical-align: top;\n",
       "    }\n",
       "\n",
       "    .dataframe thead th {\n",
       "        text-align: right;\n",
       "    }\n",
       "</style>\n",
       "<table border=\"1\" class=\"dataframe\">\n",
       "  <thead>\n",
       "    <tr style=\"text-align: right;\">\n",
       "      <th></th>\n",
       "      <th>PC1</th>\n",
       "      <th>PC2</th>\n",
       "      <th>PC3</th>\n",
       "    </tr>\n",
       "  </thead>\n",
       "  <tbody>\n",
       "    <tr>\n",
       "      <td>0</td>\n",
       "      <td>-2.684207</td>\n",
       "      <td>0.326607</td>\n",
       "      <td>-0.021512</td>\n",
       "    </tr>\n",
       "    <tr>\n",
       "      <td>1</td>\n",
       "      <td>-2.715391</td>\n",
       "      <td>-0.169557</td>\n",
       "      <td>-0.203521</td>\n",
       "    </tr>\n",
       "    <tr>\n",
       "      <td>2</td>\n",
       "      <td>-2.889820</td>\n",
       "      <td>-0.137346</td>\n",
       "      <td>0.024709</td>\n",
       "    </tr>\n",
       "    <tr>\n",
       "      <td>3</td>\n",
       "      <td>-2.746437</td>\n",
       "      <td>-0.311124</td>\n",
       "      <td>0.037672</td>\n",
       "    </tr>\n",
       "    <tr>\n",
       "      <td>4</td>\n",
       "      <td>-2.728593</td>\n",
       "      <td>0.333925</td>\n",
       "      <td>0.096230</td>\n",
       "    </tr>\n",
       "    <tr>\n",
       "      <td>...</td>\n",
       "      <td>...</td>\n",
       "      <td>...</td>\n",
       "      <td>...</td>\n",
       "    </tr>\n",
       "    <tr>\n",
       "      <td>145</td>\n",
       "      <td>1.944017</td>\n",
       "      <td>0.187415</td>\n",
       "      <td>0.179303</td>\n",
       "    </tr>\n",
       "    <tr>\n",
       "      <td>146</td>\n",
       "      <td>1.525664</td>\n",
       "      <td>-0.375021</td>\n",
       "      <td>-0.120636</td>\n",
       "    </tr>\n",
       "    <tr>\n",
       "      <td>147</td>\n",
       "      <td>1.764046</td>\n",
       "      <td>0.078519</td>\n",
       "      <td>0.130784</td>\n",
       "    </tr>\n",
       "    <tr>\n",
       "      <td>148</td>\n",
       "      <td>1.901629</td>\n",
       "      <td>0.115877</td>\n",
       "      <td>0.722874</td>\n",
       "    </tr>\n",
       "    <tr>\n",
       "      <td>149</td>\n",
       "      <td>1.389666</td>\n",
       "      <td>-0.282887</td>\n",
       "      <td>0.362318</td>\n",
       "    </tr>\n",
       "  </tbody>\n",
       "</table>\n",
       "<p>150 rows × 3 columns</p>\n",
       "</div>"
      ],
      "text/plain": [
       "          PC1       PC2       PC3\n",
       "0   -2.684207  0.326607 -0.021512\n",
       "1   -2.715391 -0.169557 -0.203521\n",
       "2   -2.889820 -0.137346  0.024709\n",
       "3   -2.746437 -0.311124  0.037672\n",
       "4   -2.728593  0.333925  0.096230\n",
       "..        ...       ...       ...\n",
       "145  1.944017  0.187415  0.179303\n",
       "146  1.525664 -0.375021 -0.120636\n",
       "147  1.764046  0.078519  0.130784\n",
       "148  1.901629  0.115877  0.722874\n",
       "149  1.389666 -0.282887  0.362318\n",
       "\n",
       "[150 rows x 3 columns]"
      ]
     },
     "execution_count": 83,
     "metadata": {},
     "output_type": "execute_result"
    }
   ],
   "source": [
    "pca_iris = PCA(n_components=3)\n",
    "principalComponents = pca_iris.fit_transform(iris_features)\n",
    "principalDf = pd.DataFrame(data = principalComponents\n",
    "             , columns = ['PC1', 'PC2','PC3'])\n",
    "principalDf"
   ]
  },
  {
   "cell_type": "code",
   "execution_count": 85,
   "metadata": {
    "ExecuteTime": {
     "end_time": "2019-09-24T20:47:07.086079Z",
     "start_time": "2019-09-24T20:47:07.080731Z"
    }
   },
   "outputs": [
    {
     "data": {
      "text/plain": [
       "0.9948169145498101"
      ]
     },
     "execution_count": 85,
     "metadata": {},
     "output_type": "execute_result"
    }
   ],
   "source": [
    "pca_iris.explained_variance_ratio_"
   ]
  },
  {
   "cell_type": "code",
   "execution_count": 86,
   "metadata": {
    "ExecuteTime": {
     "end_time": "2019-09-24T20:47:13.039615Z",
     "start_time": "2019-09-24T20:47:13.033200Z"
    }
   },
   "outputs": [
    {
     "data": {
      "text/plain": [
       "3"
      ]
     },
     "execution_count": 86,
     "metadata": {},
     "output_type": "execute_result"
    }
   ],
   "source": [
    "pca_iris.n_components_"
   ]
  },
  {
   "cell_type": "code",
   "execution_count": 87,
   "metadata": {
    "ExecuteTime": {
     "end_time": "2019-09-24T20:47:14.792878Z",
     "start_time": "2019-09-24T20:47:14.782752Z"
    }
   },
   "outputs": [
    {
     "data": {
      "text/plain": [
       "2"
      ]
     },
     "execution_count": 87,
     "metadata": {},
     "output_type": "execute_result"
    }
   ],
   "source": [
    "pca_iris_2 = PCA(0.95)\n",
    "principalComponents2 = pca_iris_2.fit_transform(iris_features)\n",
    "principalDf2 = pd.DataFrame(data = principalComponents2)\n",
    "principalDf2\n",
    "pca_iris_2.explained_variance_ratio_\n",
    "pca_iris_2.n_components_"
   ]
  },
  {
   "cell_type": "code",
   "execution_count": 88,
   "metadata": {
    "ExecuteTime": {
     "end_time": "2019-09-24T20:47:15.319492Z",
     "start_time": "2019-09-24T20:47:15.311180Z"
    }
   },
   "outputs": [
    {
     "data": {
      "text/plain": [
       "array([0.92461621, 0.05301557])"
      ]
     },
     "execution_count": 88,
     "metadata": {},
     "output_type": "execute_result"
    }
   ],
   "source": [
    "pca_iris_2.explained_variance_ratio_"
   ]
  },
  {
   "cell_type": "code",
   "execution_count": 89,
   "metadata": {
    "ExecuteTime": {
     "end_time": "2019-09-24T20:47:16.977568Z",
     "start_time": "2019-09-24T20:47:16.970879Z"
    }
   },
   "outputs": [
    {
     "data": {
      "text/plain": [
       "array([[-0.08226889,  0.85657211,  0.35884393,  0.36158968],\n",
       "       [ 0.72971237, -0.1757674 , -0.07470647,  0.65653988]])"
      ]
     },
     "execution_count": 89,
     "metadata": {},
     "output_type": "execute_result"
    }
   ],
   "source": [
    "pca_iris_2.components_"
   ]
  },
  {
   "cell_type": "code",
   "execution_count": 90,
   "metadata": {
    "ExecuteTime": {
     "end_time": "2019-09-24T20:47:17.331473Z",
     "start_time": "2019-09-24T20:47:17.310415Z"
    }
   },
   "outputs": [
    {
     "data": {
      "text/html": [
       "<div>\n",
       "<style scoped>\n",
       "    .dataframe tbody tr th:only-of-type {\n",
       "        vertical-align: middle;\n",
       "    }\n",
       "\n",
       "    .dataframe tbody tr th {\n",
       "        vertical-align: top;\n",
       "    }\n",
       "\n",
       "    .dataframe thead th {\n",
       "        text-align: right;\n",
       "    }\n",
       "</style>\n",
       "<table border=\"1\" class=\"dataframe\">\n",
       "  <thead>\n",
       "    <tr style=\"text-align: right;\">\n",
       "      <th></th>\n",
       "      <th>PC1</th>\n",
       "      <th>PC2</th>\n",
       "      <th>PC3</th>\n",
       "      <th>target</th>\n",
       "    </tr>\n",
       "  </thead>\n",
       "  <tbody>\n",
       "    <tr>\n",
       "      <td>0</td>\n",
       "      <td>-2.684207</td>\n",
       "      <td>0.326607</td>\n",
       "      <td>-0.021512</td>\n",
       "      <td>Iris-setosa</td>\n",
       "    </tr>\n",
       "    <tr>\n",
       "      <td>1</td>\n",
       "      <td>-2.715391</td>\n",
       "      <td>-0.169557</td>\n",
       "      <td>-0.203521</td>\n",
       "      <td>Iris-setosa</td>\n",
       "    </tr>\n",
       "    <tr>\n",
       "      <td>2</td>\n",
       "      <td>-2.889820</td>\n",
       "      <td>-0.137346</td>\n",
       "      <td>0.024709</td>\n",
       "      <td>Iris-setosa</td>\n",
       "    </tr>\n",
       "    <tr>\n",
       "      <td>3</td>\n",
       "      <td>-2.746437</td>\n",
       "      <td>-0.311124</td>\n",
       "      <td>0.037672</td>\n",
       "      <td>Iris-setosa</td>\n",
       "    </tr>\n",
       "    <tr>\n",
       "      <td>4</td>\n",
       "      <td>-2.728593</td>\n",
       "      <td>0.333925</td>\n",
       "      <td>0.096230</td>\n",
       "      <td>Iris-setosa</td>\n",
       "    </tr>\n",
       "    <tr>\n",
       "      <td>...</td>\n",
       "      <td>...</td>\n",
       "      <td>...</td>\n",
       "      <td>...</td>\n",
       "      <td>...</td>\n",
       "    </tr>\n",
       "    <tr>\n",
       "      <td>145</td>\n",
       "      <td>1.944017</td>\n",
       "      <td>0.187415</td>\n",
       "      <td>0.179303</td>\n",
       "      <td>Iris-virginica</td>\n",
       "    </tr>\n",
       "    <tr>\n",
       "      <td>146</td>\n",
       "      <td>1.525664</td>\n",
       "      <td>-0.375021</td>\n",
       "      <td>-0.120636</td>\n",
       "      <td>Iris-virginica</td>\n",
       "    </tr>\n",
       "    <tr>\n",
       "      <td>147</td>\n",
       "      <td>1.764046</td>\n",
       "      <td>0.078519</td>\n",
       "      <td>0.130784</td>\n",
       "      <td>Iris-virginica</td>\n",
       "    </tr>\n",
       "    <tr>\n",
       "      <td>148</td>\n",
       "      <td>1.901629</td>\n",
       "      <td>0.115877</td>\n",
       "      <td>0.722874</td>\n",
       "      <td>Iris-virginica</td>\n",
       "    </tr>\n",
       "    <tr>\n",
       "      <td>149</td>\n",
       "      <td>1.389666</td>\n",
       "      <td>-0.282887</td>\n",
       "      <td>0.362318</td>\n",
       "      <td>Iris-virginica</td>\n",
       "    </tr>\n",
       "  </tbody>\n",
       "</table>\n",
       "<p>150 rows × 4 columns</p>\n",
       "</div>"
      ],
      "text/plain": [
       "          PC1       PC2       PC3          target\n",
       "0   -2.684207  0.326607 -0.021512     Iris-setosa\n",
       "1   -2.715391 -0.169557 -0.203521     Iris-setosa\n",
       "2   -2.889820 -0.137346  0.024709     Iris-setosa\n",
       "3   -2.746437 -0.311124  0.037672     Iris-setosa\n",
       "4   -2.728593  0.333925  0.096230     Iris-setosa\n",
       "..        ...       ...       ...             ...\n",
       "145  1.944017  0.187415  0.179303  Iris-virginica\n",
       "146  1.525664 -0.375021 -0.120636  Iris-virginica\n",
       "147  1.764046  0.078519  0.130784  Iris-virginica\n",
       "148  1.901629  0.115877  0.722874  Iris-virginica\n",
       "149  1.389666 -0.282887  0.362318  Iris-virginica\n",
       "\n",
       "[150 rows x 4 columns]"
      ]
     },
     "execution_count": 90,
     "metadata": {},
     "output_type": "execute_result"
    }
   ],
   "source": [
    "finalDf = pd.concat([principalDf, iris_df[['target']]], axis = 1)\n",
    "finalDf"
   ]
  },
  {
   "cell_type": "code",
   "execution_count": 67,
   "metadata": {
    "ExecuteTime": {
     "end_time": "2019-09-24T20:36:51.571823Z",
     "start_time": "2019-09-24T20:36:51.233829Z"
    }
   },
   "outputs": [
    {
     "data": {
      "image/png": "[encoded data removed]",
      "text/plain": [
       "<Figure size 576x576 with 1 Axes>"
      ]
     },
     "metadata": {
      "needs_background": "light"
     },
     "output_type": "display_data"
    }
   ],
   "source": [
    "fig = plt.figure(figsize = (8,8))\n",
    "ax = fig.add_subplot(1,1,1) \n",
    "ax.set_xlabel('PC1', fontsize = 15)\n",
    "ax.set_ylabel('PC2', fontsize = 15)\n",
    "ax.set_title('2 component PCA', fontsize = 20)\n",
    "targets = ['Iris-setosa', 'Iris-versicolor', 'Iris-virginica']\n",
    "colors = ['r', 'g', 'b']\n",
    "for target, color in zip(targets,colors):\n",
    "    indicesToKeep = finalDf['target'] == target\n",
    "    ax.scatter(finalDf.loc[indicesToKeep, 'PC1']\n",
    "               , finalDf.loc[indicesToKeep, 'PC2']\n",
    "               , c = color\n",
    "               , s = 50)\n",
    "ax.legend(targets)\n",
    "ax.grid()"
   ]
  },
  {
   "cell_type": "code",
   "execution_count": 68,
   "metadata": {
    "ExecuteTime": {
     "end_time": "2019-09-24T20:37:24.523437Z",
     "start_time": "2019-09-24T20:37:24.277141Z"
    }
   },
   "outputs": [
    {
     "data": {
      "image/png": "[encoded data removed]",
      "text/plain": [
       "<Figure size 720x360 with 2 Axes>"
      ]
     },
     "metadata": {
      "needs_background": "light"
     },
     "output_type": "display_data"
    }
   ],
   "source": [
    "plt.figure(figsize=(10,5))\n",
    "plt.matshow(pca_iris.components_,cmap='viridis',fignum=1)\n",
    "plt.yticks([0,1,2],['PC1','PC2','PC3'],fontsize=10)\n",
    "plt.colorbar()\n",
    "plt.xticks(range(len(iris_features.columns)),iris_features.columns,rotation=65,ha='left')\n",
    "plt.show()"
   ]
  },
  {
   "cell_type": "code",
   "execution_count": 69,
   "metadata": {
    "ExecuteTime": {
     "end_time": "2019-09-24T20:37:34.112567Z",
     "start_time": "2019-09-24T20:37:34.098621Z"
    }
   },
   "outputs": [
    {
     "data": {
      "text/html": [
       "<div>\n",
       "<style scoped>\n",
       "    .dataframe tbody tr th:only-of-type {\n",
       "        vertical-align: middle;\n",
       "    }\n",
       "\n",
       "    .dataframe tbody tr th {\n",
       "        vertical-align: top;\n",
       "    }\n",
       "\n",
       "    .dataframe thead th {\n",
       "        text-align: right;\n",
       "    }\n",
       "</style>\n",
       "<table border=\"1\" class=\"dataframe\">\n",
       "  <thead>\n",
       "    <tr style=\"text-align: right;\">\n",
       "      <th></th>\n",
       "      <th>sepal width</th>\n",
       "      <th>petal length</th>\n",
       "      <th>petal width</th>\n",
       "      <th>sepal length</th>\n",
       "    </tr>\n",
       "  </thead>\n",
       "  <tbody>\n",
       "    <tr>\n",
       "      <td>sepal width</td>\n",
       "      <td>1.000000</td>\n",
       "      <td>-0.420516</td>\n",
       "      <td>-0.356544</td>\n",
       "      <td>-0.109369</td>\n",
       "    </tr>\n",
       "    <tr>\n",
       "      <td>petal length</td>\n",
       "      <td>-0.420516</td>\n",
       "      <td>1.000000</td>\n",
       "      <td>0.962757</td>\n",
       "      <td>0.871754</td>\n",
       "    </tr>\n",
       "    <tr>\n",
       "      <td>petal width</td>\n",
       "      <td>-0.356544</td>\n",
       "      <td>0.962757</td>\n",
       "      <td>1.000000</td>\n",
       "      <td>0.817954</td>\n",
       "    </tr>\n",
       "    <tr>\n",
       "      <td>sepal length</td>\n",
       "      <td>-0.109369</td>\n",
       "      <td>0.871754</td>\n",
       "      <td>0.817954</td>\n",
       "      <td>1.000000</td>\n",
       "    </tr>\n",
       "  </tbody>\n",
       "</table>\n",
       "</div>"
      ],
      "text/plain": [
       "              sepal width  petal length  petal width  sepal length\n",
       "sepal width      1.000000     -0.420516    -0.356544     -0.109369\n",
       "petal length    -0.420516      1.000000     0.962757      0.871754\n",
       "petal width     -0.356544      0.962757     1.000000      0.817954\n",
       "sepal length    -0.109369      0.871754     0.817954      1.000000"
      ]
     },
     "execution_count": 69,
     "metadata": {},
     "output_type": "execute_result"
    }
   ],
   "source": [
    "iris_features.corr()"
   ]
  },
  {
   "cell_type": "markdown",
   "metadata": {},
   "source": [
    "## RFE (e outras pequenas coisas)"
   ]
  },
  {
   "cell_type": "code",
   "execution_count": 72,
   "metadata": {
    "ExecuteTime": {
     "end_time": "2019-09-24T20:39:57.161167Z",
     "start_time": "2019-09-24T20:39:57.152247Z"
    }
   },
   "outputs": [
    {
     "data": {
      "text/plain": [
       "array([0, 1, 2])"
      ]
     },
     "execution_count": 72,
     "metadata": {},
     "output_type": "execute_result"
    }
   ],
   "source": [
    "labels=iris_target.target.unique()\n",
    "label_encoder=LabelEncoder()\n",
    "label_ids=label_encoder.fit_transform(labels)\n",
    "label_ids"
   ]
  },
  {
   "cell_type": "code",
   "execution_count": 76,
   "metadata": {
    "ExecuteTime": {
     "end_time": "2019-09-24T20:40:54.054667Z",
     "start_time": "2019-09-24T20:40:54.042680Z"
    }
   },
   "outputs": [
    {
     "data": {
      "text/html": [
       "<div>\n",
       "<style scoped>\n",
       "    .dataframe tbody tr th:only-of-type {\n",
       "        vertical-align: middle;\n",
       "    }\n",
       "\n",
       "    .dataframe tbody tr th {\n",
       "        vertical-align: top;\n",
       "    }\n",
       "\n",
       "    .dataframe thead th {\n",
       "        text-align: right;\n",
       "    }\n",
       "</style>\n",
       "<table border=\"1\" class=\"dataframe\">\n",
       "  <thead>\n",
       "    <tr style=\"text-align: right;\">\n",
       "      <th></th>\n",
       "      <th>target</th>\n",
       "      <th>target_encode</th>\n",
       "    </tr>\n",
       "  </thead>\n",
       "  <tbody>\n",
       "    <tr>\n",
       "      <td>0</td>\n",
       "      <td>Iris-setosa</td>\n",
       "      <td>0</td>\n",
       "    </tr>\n",
       "    <tr>\n",
       "      <td>1</td>\n",
       "      <td>Iris-setosa</td>\n",
       "      <td>0</td>\n",
       "    </tr>\n",
       "    <tr>\n",
       "      <td>2</td>\n",
       "      <td>Iris-setosa</td>\n",
       "      <td>0</td>\n",
       "    </tr>\n",
       "    <tr>\n",
       "      <td>3</td>\n",
       "      <td>Iris-setosa</td>\n",
       "      <td>0</td>\n",
       "    </tr>\n",
       "    <tr>\n",
       "      <td>4</td>\n",
       "      <td>Iris-setosa</td>\n",
       "      <td>0</td>\n",
       "    </tr>\n",
       "    <tr>\n",
       "      <td>...</td>\n",
       "      <td>...</td>\n",
       "      <td>...</td>\n",
       "    </tr>\n",
       "    <tr>\n",
       "      <td>145</td>\n",
       "      <td>Iris-virginica</td>\n",
       "      <td>2</td>\n",
       "    </tr>\n",
       "    <tr>\n",
       "      <td>146</td>\n",
       "      <td>Iris-virginica</td>\n",
       "      <td>2</td>\n",
       "    </tr>\n",
       "    <tr>\n",
       "      <td>147</td>\n",
       "      <td>Iris-virginica</td>\n",
       "      <td>2</td>\n",
       "    </tr>\n",
       "    <tr>\n",
       "      <td>148</td>\n",
       "      <td>Iris-virginica</td>\n",
       "      <td>2</td>\n",
       "    </tr>\n",
       "    <tr>\n",
       "      <td>149</td>\n",
       "      <td>Iris-virginica</td>\n",
       "      <td>2</td>\n",
       "    </tr>\n",
       "  </tbody>\n",
       "</table>\n",
       "<p>150 rows × 2 columns</p>\n",
       "</div>"
      ],
      "text/plain": [
       "             target  target_encode\n",
       "0       Iris-setosa              0\n",
       "1       Iris-setosa              0\n",
       "2       Iris-setosa              0\n",
       "3       Iris-setosa              0\n",
       "4       Iris-setosa              0\n",
       "..              ...            ...\n",
       "145  Iris-virginica              2\n",
       "146  Iris-virginica              2\n",
       "147  Iris-virginica              2\n",
       "148  Iris-virginica              2\n",
       "149  Iris-virginica              2\n",
       "\n",
       "[150 rows x 2 columns]"
      ]
     },
     "execution_count": 76,
     "metadata": {},
     "output_type": "execute_result"
    }
   ],
   "source": [
    "cols = list(iris_features.columns)\n",
    "\n",
    "le = LabelEncoder()\n",
    "iris_target['target_encode'] = le.fit_transform(iris_df.target.values)\n",
    "iris_target_encode = iris_target[['target_encode']]\n",
    "iris_target"
   ]
  },
  {
   "cell_type": "code",
   "execution_count": 77,
   "metadata": {
    "ExecuteTime": {
     "end_time": "2019-09-24T20:41:08.349383Z",
     "start_time": "2019-09-24T20:41:08.344303Z"
    }
   },
   "outputs": [],
   "source": [
    "#Criando um Modelo Linear\n",
    "model = LinearRegression()"
   ]
  },
  {
   "cell_type": "code",
   "execution_count": 91,
   "metadata": {
    "ExecuteTime": {
     "end_time": "2019-09-24T20:48:23.132518Z",
     "start_time": "2019-09-24T20:48:23.120007Z"
    }
   },
   "outputs": [
    {
     "name": "stdout",
     "output_type": "stream",
     "text": [
      "[False  True  True  True]\n",
      "[2 1 1 1]\n",
      "['petal length', 'petal width', 'sepal length']\n"
     ]
    }
   ],
   "source": [
    "#Initializing RFE model\n",
    "rfe = RFE(model, 3)\n",
    "#Transforming data using RFE\n",
    "iris_rfe = rfe.fit_transform(iris_features,iris_target_encode.values.ravel())  \n",
    "#Fitting the data to model\n",
    "model.fit(iris_rfe,iris_target_encode.values.ravel())\n",
    "print(rfe.support_)\n",
    "print(rfe.ranking_)\n",
    "\n",
    "temp = pd.Series(rfe.support_,index = cols)\n",
    "selected_features_rfe = temp[temp==True].index\n",
    "print(list(selected_features_rfe))"
   ]
  },
  {
   "cell_type": "code",
   "execution_count": null,
   "metadata": {},
   "outputs": [],
   "source": []
  }
 ],
 "metadata": {
  "kernelspec": {
   "display_name": "codenation",
   "language": "python",
   "name": "codenation"
  },
  "language_info": {
   "codemirror_mode": {
    "name": "ipython",
    "version": 3
   },
   "file_extension": ".py",
   "mimetype": "text/x-python",
   "name": "python",
   "nbconvert_exporter": "python",
   "pygments_lexer": "ipython3",
   "version": "3.6.9"
  },
  "toc": {
   "base_numbering": 1,
   "nav_menu": {},
   "number_sections": true,
   "sideBar": true,
   "skip_h1_title": false,
   "title_cell": "Table of Contents",
   "title_sidebar": "Contents",
   "toc_cell": false,
   "toc_position": {},
   "toc_section_display": true,
   "toc_window_display": false
  }
 },
 "nbformat": 4,
 "nbformat_minor": 2
}
