{
 "cells": [
  {
   "cell_type": "markdown",
   "metadata": {},
   "source": [
    "# XP Data Science - Semana 3 - Análise Exploratória"
   ]
  },
  {
   "cell_type": "code",
   "execution_count": 60,
   "metadata": {
    "ExecuteTime": {
     "end_time": "2019-09-10T23:23:41.734781Z",
     "start_time": "2019-09-10T23:23:41.723058Z"
    }
   },
   "outputs": [],
   "source": [
    "import random\n",
    "import pandas as pd\n",
    "import numpy as np\n",
    "import matplotlib.pyplot as plt\n",
    "from scipy.stats import norm\n",
    "import scipy.stats as sct\n",
    "import scipy as sci\n",
    "from statsmodels.distributions.empirical_distribution import ECDF"
   ]
  },
  {
   "cell_type": "markdown",
   "metadata": {},
   "source": [
    "-  Aqui estamaos usando as libs \n",
    "    -  scipy\n",
    "        <br><https://docs.scipy.org/doc/scipy/reference/stats.html>\n",
    "        <br><https://www.scipy.org/>\n",
    "    -  statsmodels\n",
    "        <br><https://www.statsmodels.org/stable/index.html>\n"
   ]
  },
  {
   "cell_type": "markdown",
   "metadata": {},
   "source": [
    "## Jogando Moedas"
   ]
  },
  {
   "cell_type": "code",
   "execution_count": 78,
   "metadata": {
    "ExecuteTime": {
     "end_time": "2019-09-10T23:28:39.003464Z",
     "start_time": "2019-09-10T23:28:38.990462Z"
    }
   },
   "outputs": [],
   "source": [
    "def coin_trial():\n",
    "    heads = 0\n",
    "    for i in range(100):\n",
    "        if random.random() <= 0.5:\n",
    "            heads +=1\n",
    "    return heads"
   ]
  },
  {
   "cell_type": "markdown",
   "metadata": {},
   "source": [
    "- Joga uma moeda 100 vezes para cima"
   ]
  },
  {
   "cell_type": "code",
   "execution_count": 79,
   "metadata": {
    "ExecuteTime": {
     "end_time": "2019-09-10T23:28:39.855870Z",
     "start_time": "2019-09-10T23:28:39.838776Z"
    }
   },
   "outputs": [],
   "source": [
    "def simulate(n):\n",
    "    trials = []\n",
    "    for i in range(n):\n",
    "        trials.append(coin_trial())\n",
    "    print(trials)\n",
    "    return(sum(trials)/n)"
   ]
  },
  {
   "cell_type": "markdown",
   "metadata": {},
   "source": [
    "- Faz a n vezes o jogar de 100 vezes a modea para cima"
   ]
  },
  {
   "cell_type": "code",
   "execution_count": 83,
   "metadata": {
    "ExecuteTime": {
     "end_time": "2019-09-10T23:29:08.582289Z",
     "start_time": "2019-09-10T23:29:08.557878Z"
    }
   },
   "outputs": [
    {
     "name": "stdout",
     "output_type": "stream",
     "text": [
      "[48, 49, 54, 52, 49, 47, 57, 62, 50, 60]\n"
     ]
    },
    {
     "data": {
      "text/plain": [
       "52.8"
      ]
     },
     "execution_count": 83,
     "metadata": {},
     "output_type": "execute_result"
    }
   ],
   "source": [
    "simulate(10)"
   ]
  },
  {
   "cell_type": "markdown",
   "metadata": {},
   "source": [
    "# Qual melhor vinho em relação a média ?"
   ]
  },
  {
   "cell_type": "markdown",
   "metadata": {
    "ExecuteTime": {
     "end_time": "2019-09-08T20:56:19.418282Z",
     "start_time": "2019-09-08T20:56:19.407329Z"
    }
   },
   "source": [
    "https://www.kaggle.com/zynicide/wine-reviews/data"
   ]
  },
  {
   "cell_type": "markdown",
   "metadata": {},
   "source": [
    "### Ainda vamos falar de vinho"
   ]
  },
  {
   "cell_type": "code",
   "execution_count": 9,
   "metadata": {
    "ExecuteTime": {
     "end_time": "2019-09-10T20:35:38.093680Z",
     "start_time": "2019-09-10T20:35:37.972209Z"
    }
   },
   "outputs": [
    {
     "name": "stdout",
     "output_type": "stream",
     "text": [
      ",country,description,designation,points,price,province,region_1,region_2,taster_name,taster_twitter_handle,title,variety,winery\r\n",
      "0,Italy,\"Aromas include tropical fruit, broom, brimstone and dried herb. The palate isn't overly expressive, offering unripened apple, citrus and dried sage alongside brisk acidity.\",Vulkà Bianco,87,,Sicily & Sardinia,Etna,,Kerin O’Keefe,@kerinokeefe,Nicosia 2013 Vulkà Bianco  (Etna),White Blend,Nicosia\r\n",
      "1,Portugal,\"This is ripe and fruity, a wine that is smooth while still structured. Firm tannins are filled out with juicy red berry fruits and freshened with acidity. It's  already drinkable, although it will certainly be better from 2016.\",Avidagos,87,15.0,Douro,,,Roger Voss,@vossroger,Quinta dos Avidagos 2011 Avidagos Red (Douro),Portuguese Red,Quinta dos Avidagos\r\n"
     ]
    }
   ],
   "source": [
    "!head -n 3 wine-data.csv"
   ]
  },
  {
   "cell_type": "markdown",
   "metadata": {},
   "source": [
    "- Trás o começo do arquivo"
   ]
  },
  {
   "cell_type": "code",
   "execution_count": 97,
   "metadata": {
    "ExecuteTime": {
     "end_time": "2019-09-10T23:41:03.032863Z",
     "start_time": "2019-09-10T23:41:01.813580Z"
    }
   },
   "outputs": [
    {
     "data": {
      "text/html": [
       "<div>\n",
       "<style scoped>\n",
       "    .dataframe tbody tr th:only-of-type {\n",
       "        vertical-align: middle;\n",
       "    }\n",
       "\n",
       "    .dataframe tbody tr th {\n",
       "        vertical-align: top;\n",
       "    }\n",
       "\n",
       "    .dataframe thead th {\n",
       "        text-align: right;\n",
       "    }\n",
       "</style>\n",
       "<table border=\"1\" class=\"dataframe\">\n",
       "  <thead>\n",
       "    <tr style=\"text-align: right;\">\n",
       "      <th></th>\n",
       "      <th>country</th>\n",
       "      <th>description</th>\n",
       "      <th>designation</th>\n",
       "      <th>points</th>\n",
       "      <th>price</th>\n",
       "      <th>province</th>\n",
       "      <th>region_1</th>\n",
       "      <th>region_2</th>\n",
       "      <th>taster_name</th>\n",
       "      <th>taster_twitter_handle</th>\n",
       "      <th>title</th>\n",
       "      <th>variety</th>\n",
       "      <th>winery</th>\n",
       "    </tr>\n",
       "  </thead>\n",
       "  <tbody>\n",
       "    <tr>\n",
       "      <td>0</td>\n",
       "      <td>Italy</td>\n",
       "      <td>Aromas include tropical fruit, broom, brimston...</td>\n",
       "      <td>Vulkà Bianco</td>\n",
       "      <td>87</td>\n",
       "      <td>NaN</td>\n",
       "      <td>Sicily &amp; Sardinia</td>\n",
       "      <td>Etna</td>\n",
       "      <td>NaN</td>\n",
       "      <td>Kerin O’Keefe</td>\n",
       "      <td>@kerinokeefe</td>\n",
       "      <td>Nicosia 2013 Vulkà Bianco  (Etna)</td>\n",
       "      <td>White Blend</td>\n",
       "      <td>Nicosia</td>\n",
       "    </tr>\n",
       "    <tr>\n",
       "      <td>1</td>\n",
       "      <td>Portugal</td>\n",
       "      <td>This is ripe and fruity, a wine that is smooth...</td>\n",
       "      <td>Avidagos</td>\n",
       "      <td>87</td>\n",
       "      <td>15.0</td>\n",
       "      <td>Douro</td>\n",
       "      <td>NaN</td>\n",
       "      <td>NaN</td>\n",
       "      <td>Roger Voss</td>\n",
       "      <td>@vossroger</td>\n",
       "      <td>Quinta dos Avidagos 2011 Avidagos Red (Douro)</td>\n",
       "      <td>Portuguese Red</td>\n",
       "      <td>Quinta dos Avidagos</td>\n",
       "    </tr>\n",
       "    <tr>\n",
       "      <td>2</td>\n",
       "      <td>US</td>\n",
       "      <td>Tart and snappy, the flavors of lime flesh and...</td>\n",
       "      <td>NaN</td>\n",
       "      <td>87</td>\n",
       "      <td>14.0</td>\n",
       "      <td>Oregon</td>\n",
       "      <td>Willamette Valley</td>\n",
       "      <td>Willamette Valley</td>\n",
       "      <td>Paul Gregutt</td>\n",
       "      <td>@paulgwine</td>\n",
       "      <td>Rainstorm 2013 Pinot Gris (Willamette Valley)</td>\n",
       "      <td>Pinot Gris</td>\n",
       "      <td>Rainstorm</td>\n",
       "    </tr>\n",
       "  </tbody>\n",
       "</table>\n",
       "</div>"
      ],
      "text/plain": [
       "    country                                        description   designation  \\\n",
       "0     Italy  Aromas include tropical fruit, broom, brimston...  Vulkà Bianco   \n",
       "1  Portugal  This is ripe and fruity, a wine that is smooth...      Avidagos   \n",
       "2        US  Tart and snappy, the flavors of lime flesh and...           NaN   \n",
       "\n",
       "   points  price           province           region_1           region_2  \\\n",
       "0      87    NaN  Sicily & Sardinia               Etna                NaN   \n",
       "1      87   15.0              Douro                NaN                NaN   \n",
       "2      87   14.0             Oregon  Willamette Valley  Willamette Valley   \n",
       "\n",
       "     taster_name taster_twitter_handle  \\\n",
       "0  Kerin O’Keefe          @kerinokeefe   \n",
       "1     Roger Voss            @vossroger   \n",
       "2   Paul Gregutt           @paulgwine    \n",
       "\n",
       "                                           title         variety  \\\n",
       "0              Nicosia 2013 Vulkà Bianco  (Etna)     White Blend   \n",
       "1  Quinta dos Avidagos 2011 Avidagos Red (Douro)  Portuguese Red   \n",
       "2  Rainstorm 2013 Pinot Gris (Willamette Valley)      Pinot Gris   \n",
       "\n",
       "                winery  \n",
       "0              Nicosia  \n",
       "1  Quinta dos Avidagos  \n",
       "2            Rainstorm  "
      ]
     },
     "execution_count": 97,
     "metadata": {},
     "output_type": "execute_result"
    }
   ],
   "source": [
    "wine_df = pd.read_csv('wine.csv.zip',compression='zip', header=0, sep=',', quotechar='\"')\n",
    "wine_df = wine_df[wine_df.columns[1:]]\n",
    "wine_df.head(3)"
   ]
  },
  {
   "cell_type": "markdown",
   "metadata": {},
   "source": [
    "- Le direto do zip"
   ]
  },
  {
   "cell_type": "markdown",
   "metadata": {},
   "source": [
    "### Explorando"
   ]
  },
  {
   "cell_type": "code",
   "execution_count": 110,
   "metadata": {
    "ExecuteTime": {
     "end_time": "2019-09-10T23:58:06.353225Z",
     "start_time": "2019-09-10T23:58:06.337327Z"
    }
   },
   "outputs": [
    {
     "data": {
      "text/plain": [
       "(129971, 13)"
      ]
     },
     "execution_count": 110,
     "metadata": {},
     "output_type": "execute_result"
    }
   ],
   "source": [
    "wine_df.shape"
   ]
  },
  {
   "cell_type": "code",
   "execution_count": 12,
   "metadata": {
    "ExecuteTime": {
     "end_time": "2019-09-10T20:36:49.417161Z",
     "start_time": "2019-09-10T20:36:49.379013Z"
    }
   },
   "outputs": [
    {
     "data": {
      "text/plain": [
       "array(['White Blend', 'Portuguese Red', 'Pinot Gris', 'Riesling',\n",
       "       'Pinot Noir', 'Tempranillo-Merlot', 'Frappato', 'Gewürztraminer',\n",
       "       'Cabernet Sauvignon', 'Nerello Mascalese', 'Chardonnay', 'Malbec',\n",
       "       'Tempranillo Blend', 'Meritage', 'Red Blend', 'Merlot',\n",
       "       \"Nero d'Avola\", 'Chenin Blanc', 'Gamay', 'Sauvignon Blanc',\n",
       "       'Viognier-Chardonnay', 'Primitivo', 'Catarratto', 'Inzolia',\n",
       "       'Petit Verdot', 'Monica', 'Bordeaux-style White Blend', 'Grillo',\n",
       "       'Sangiovese', 'Cabernet Franc', 'Champagne Blend',\n",
       "       'Bordeaux-style Red Blend', 'Aglianico', 'Petite Sirah',\n",
       "       'Touriga Nacional', 'Carmenère', 'Albariño', 'Petit Manseng',\n",
       "       'Rosé', 'Zinfandel', 'Vernaccia', 'Rosato', 'Grüner Veltliner',\n",
       "       'Viognier', 'Vermentino', 'Grenache Blanc', 'Syrah', 'Nebbiolo',\n",
       "       'Shiraz-Cabernet Sauvignon', 'Pinot Blanc', 'Alsace white blend',\n",
       "       'Barbera', 'Rhône-style Red Blend', 'Portuguese White', 'Graciano',\n",
       "       'Tannat-Cabernet', 'Sauvignon', 'Sangiovese Grosso', 'Torrontés',\n",
       "       'Prugnolo Gentile', 'G-S-M', 'Verdejo', 'Fumé Blanc', 'Furmint',\n",
       "       'Pinot Bianco', 'Bonarda', 'Shiraz', 'Montepulciano', 'Moscato',\n",
       "       'Grenache', 'Ugni Blanc-Colombard', 'Syrah-Viognier',\n",
       "       'Blaufränkisch', 'Friulano', 'Assyrtico', 'Carignan-Grenache',\n",
       "       'Sagrantino', 'Savagnin', 'Cabernet Sauvignon-Syrah', 'Prosecco',\n",
       "       'Vignoles', 'Sparkling Blend', 'Muscat', 'Muscadelle',\n",
       "       'Shiraz-Viognier', 'Garganega', 'Pinot Grigio', 'Tempranillo',\n",
       "       'Zierfandler', 'Cortese', 'Mencía', 'Zweigelt', 'Melon',\n",
       "       'Rhône-style White Blend', 'Vidal', 'Cannonau', 'Verdelho',\n",
       "       'Marsanne', 'Scheurebe', 'Kerner', 'Syrah-Grenache', 'Dolcetto',\n",
       "       'Vilana', 'Glera', 'Viura', 'Garnacha Tintorera', 'Pinot Nero',\n",
       "       'Roter Veltliner', 'Pinotage', 'Sémillon', 'Pinot Noir-Gamay',\n",
       "       'Antão Vaz', 'Cabernet Sauvignon-Carmenère', 'Verdejo-Viura',\n",
       "       'Verduzzo', 'Verdicchio', 'Silvaner', 'Colombard', 'Carricante',\n",
       "       'Sylvaner', 'Fiano', 'Früburgunder', 'Sousão', 'Roussanne',\n",
       "       'Avesso', 'Cinsault', 'Chinuri', 'Tinta Miúda',\n",
       "       'Muscat Blanc à Petits Grains', 'Portuguese Sparkling',\n",
       "       'Monastrell', 'Xarel-lo', 'Greco', 'Trebbiano',\n",
       "       'Corvina, Rondinella, Molinara', 'Port', 'Chenin Blanc-Chardonnay',\n",
       "       'Insolia', 'Merlot-Malbec', 'Ribolla Gialla',\n",
       "       'Cabernet Sauvignon-Merlot', 'Duras', 'Weissburgunder', 'Roditis',\n",
       "       'Traminer', 'Papaskarasi', 'Tannat-Syrah', 'Marsanne-Roussanne',\n",
       "       'Charbono', 'Merlot-Argaman', 'Prié Blanc', 'Sherry',\n",
       "       'Provence red blend', 'Tannat', 'Zibibbo', 'Falanghina',\n",
       "       'Garnacha', 'Negroamaro', 'Mourvèdre', 'Syrah-Cabernet',\n",
       "       'Müller-Thurgau', 'Pinot Meunier', 'Cabernet Sauvignon-Sangiovese',\n",
       "       'Austrian Red Blend', 'Teroldego', 'Pansa Blanca',\n",
       "       'Muskat Ottonel', 'Sauvignon Blanc-Semillon', 'Claret',\n",
       "       'Semillon-Sauvignon Blanc', 'Bical', 'Moscatel', 'Rosado',\n",
       "       'Viura-Chardonnay', 'Baga', 'Malvasia Bianca',\n",
       "       'Gelber Muskateller', 'Malbec-Merlot', 'Monastrell-Syrah',\n",
       "       'Malbec-Tannat', 'Malbec-Cabernet Franc', 'Turbiana', 'Refosco',\n",
       "       'Alvarinho', 'Manzoni', 'Aragonês', 'Agiorgitiko', 'Malagousia',\n",
       "       'Assyrtiko', 'Ruché', 'Welschriesling', 'Tinta de Toro',\n",
       "       'Cabernet Moravia', 'Rieslaner', 'Traminette', 'Chambourcin',\n",
       "       'Nero di Troia', 'Lambrusco di Sorbara', 'Cesanese',\n",
       "       'Feteasca Neagra', 'Lagrein', 'Tinta Fina', 'St. Laurent',\n",
       "       'Marsanne-Viognier', 'Cabernet Sauvignon-Shiraz',\n",
       "       'Syrah-Cabernet Sauvignon', 'Gewürztraminer-Riesling',\n",
       "       'Pugnitello', 'Cerceal', 'Touriga Nacional Blend',\n",
       "       'Austrian white blend', 'Tocai', 'Tinta Roriz',\n",
       "       'Chardonnay-Viognier', 'Fernão Pires',\n",
       "       'Cabernet Franc-Cabernet Sauvignon', 'Grenache-Syrah',\n",
       "       'Seyval Blanc', 'Muscat Canelli', 'Cabernet Merlot',\n",
       "       'Tempranillo-Cabernet Sauvignon', 'Arinto', 'Aragonez',\n",
       "       'Merlot-Cabernet Franc', 'Syrah-Petite Sirah', 'Cabernet Blend',\n",
       "       'Maturana', 'Pecorino', 'Rotgipfler', 'Kinali Yapincak',\n",
       "       'Cabernet Franc-Carmenère', 'Magliocco', 'Gamay Noir',\n",
       "       'Sauvignon Gris', 'Spätburgunder', 'Picpoul', 'Vidal Blanc',\n",
       "       'Albanello', 'White Port', 'Arneis', 'Malvasia', 'Plavac Mali',\n",
       "       'Lemberger', 'Saperavi', 'Altesse', 'Blanc du Bois',\n",
       "       'Provence white blend', 'Nosiola', 'Dornfelder',\n",
       "       'Roussanne-Viognier', 'Ojaleshi', 'Godello', 'Mondeuse',\n",
       "       'Perricone', 'Pedro Ximénez', 'Auxerrois', 'Syrah-Merlot',\n",
       "       'Albana', 'Muskat', 'Lambrusco', 'Cabernet Sauvignon-Malbec',\n",
       "       'Tinto Fino', 'Malbec-Cabernet Sauvignon', 'Moschofilero',\n",
       "       'Grechetto', 'Encruzado', 'Carignano', 'Cabernet Franc-Merlot',\n",
       "       'Torbato', 'Syrah-Petit Verdot', 'Garnacha Blanca', 'Pallagrello',\n",
       "       'Morava', 'Syrah-Mourvèdre', 'Aleatico', 'Carcajolu', 'Kisi',\n",
       "       'Shiraz-Grenache', 'Palomino', 'Grenache-Carignan', 'Nascetta',\n",
       "       'Siria', 'Malbec-Syrah', 'Asprinio', 'Feteascǎ Regalǎ',\n",
       "       'Lambrusco Grasparossa', 'Marselan', 'Tocai Friulano', 'Schiava',\n",
       "       'Alfrocheiro', 'Chardonnay-Semillon', 'Corvina', 'Norton',\n",
       "       'Alicante Bouschet', 'Tokaji', 'Moscadello',\n",
       "       'Cabernet Sauvignon-Tempranillo', 'Carignan', 'Loureiro-Arinto',\n",
       "       'Cabernet-Syrah', 'Sauvignon Blanc-Chardonnay', 'Symphony',\n",
       "       'Edelzwicker', 'Madeira Blend', 'Black Muscat', 'Grenache Noir',\n",
       "       'Durella', 'Xinomavro', 'Tinto del Pais',\n",
       "       'Merlot-Cabernet Sauvignon', 'Cercial', 'Johannisberg Riesling',\n",
       "       'Petite Verdot', 'Passerina', 'Valdiguié',\n",
       "       'Colombard-Sauvignon Blanc', 'Kangoun', 'Loureiro', 'Posip',\n",
       "       'Uva di Troia', 'Gros and Petit Manseng', 'Jacquère',\n",
       "       'Kalecik Karasi', 'Karasakiz', 'Mourvèdre-Syrah', 'Negrette',\n",
       "       'Zierfandler-Rotgipfler', 'Clairette', 'Raboso', 'País', 'Mauzac',\n",
       "       'Pinot Auxerrois', 'Chenin Blanc-Sauvignon Blanc', 'Diamond',\n",
       "       'Marzemino', 'Tinta Barroca', 'Chardonnay-Sauvignon Blanc',\n",
       "       'Castelão', 'Trebbiano Spoletino', 'Teran', 'Trepat', 'Freisa',\n",
       "       'Neuburger', 'Sämling', 'Chasselas', 'Hárslevelü', 'Trincadeira',\n",
       "       'Merlot-Tannat', 'Rkatsiteli', 'Melnik', 'Siegerrebe',\n",
       "       'Trousseau Gris', 'Grenache Blend', 'Gros Manseng',\n",
       "       'Portuguese Rosé', 'Brachetto', 'Mantonico', 'Ekigaïna',\n",
       "       'Muskateller', 'Aligoté', 'Sangiovese Cabernet',\n",
       "       'Touriga Nacional-Cabernet Sauvignon', 'Muscat Blanc', 'Argaman',\n",
       "       'Viognier-Roussanne', 'Pallagrello Bianco', 'Bobal',\n",
       "       'Malvasia Istriana', 'Cabernet Sauvignon-Cabernet Franc',\n",
       "       'Baco Noir', 'Veltliner', 'Tempranillo-Tannat', 'Morillon',\n",
       "       'Touriga Franca', 'Picolit', 'Barbera-Nebbiolo', 'Prieto Picudo',\n",
       "       'Gaglioppo', 'Tokay', 'Sacy', 'Piedirosso', 'Piquepoul Blanc',\n",
       "       'Mansois', 'Chardonnay-Sauvignon', 'Tempranillo-Garnacha',\n",
       "       'Carmenère-Cabernet Sauvignon', 'Chenin Blanc-Viognier',\n",
       "       'Susumaniello', 'Vitovska', 'Orange Muscat', 'Grauburgunder',\n",
       "       'Carignane', 'Moscatel Roxo', 'Tannat-Merlot', 'Nerello Cappuccio',\n",
       "       'Counoise', 'Macabeo', 'Mazuelo', 'Sauvignon-Sémillon',\n",
       "       'Tinta del Pais', 'Vranec', 'Mavrud', \"Cesanese d'Affile\",\n",
       "       'Moscato Giallo', 'Debit', 'Verdil', 'Cabernet',\n",
       "       'Verduzzo Friulano ', 'Treixadura', \"Loin de l'Oeil\",\n",
       "       'Coda di Volpe', 'Grenache-Mourvèdre', 'Forcallà', 'Viura-Verdejo',\n",
       "       'Bombino Bianco', 'Pinot-Chardonnay', 'Syrah-Tempranillo',\n",
       "       'Cabernet Sauvignon-Barbera', 'Merlot-Cabernet',\n",
       "       \"Muscat d'Alexandrie\", 'Jaen', 'Tinta del Toro', 'Timorasso',\n",
       "       'Pigato', 'Sangiovese-Cabernet Sauvignon', 'Shiraz-Cabernet',\n",
       "       'Viognier-Gewürztraminer', 'Prunelard',\n",
       "       'Sauvignon Blanc-Chenin Blanc', 'Gros Plant',\n",
       "       'Malbec-Petit Verdot', 'Colombard-Ugni Blanc', 'Grignolino',\n",
       "       'Garnacha-Syrah', 'Rufete', 'Tempranillo-Shiraz', 'Mtsvane',\n",
       "       'Chardonnay-Pinot Gris', 'Marawi', 'Chardonnay-Pinot Blanc',\n",
       "       'Mataro', 'Tinta Cao', 'Blauer Portugieser', 'Ugni Blanc',\n",
       "       'Groppello', 'Semillon-Chardonnay', 'Irsai Oliver', 'Alvarelhão',\n",
       "       'Poulsard', 'Grenache-Shiraz', 'Baga-Touriga Nacional', 'Carineña',\n",
       "       'Pignoletto', 'Muscatel', 'Mavrodaphne', 'Ciliegiolo',\n",
       "       'Viognier-Grenache Blanc', 'Greco Bianco',\n",
       "       'Cabernet Sauvignon-Merlot-Shiraz', 'Sciaccerellu', 'Zelen',\n",
       "       'Alicante', 'Emir', 'Rosenmuskateller', 'Tsolikouri', 'Narince',\n",
       "       'Malbec-Cabernet', 'Touriga', 'Grecanico', 'Carmenère-Syrah',\n",
       "       'Madeleine Angevine', 'Mavroudi', 'Pinot Blanc-Pinot Noir',\n",
       "       'Muscat Hamburg', 'Tempranillo Blanco', 'Casavecchia',\n",
       "       'Pinot Gris-Gewürztraminer', 'White Riesling', 'Tinto Velasco',\n",
       "       'Hondarrabi Zuri', 'Nuragus', 'Xynisteri', 'Kadarka',\n",
       "       'Sauvignon Musqué', 'Roussanne-Marsanne', 'Incrocio Manzoni',\n",
       "       'Terrantez', 'Bual', 'Okuzgozu', 'Rivaner', 'Doña Blanca',\n",
       "       'Graševina', 'Lambrusco Salamino', 'Sangiovese-Syrah',\n",
       "       'Tannat-Cabernet Franc', 'Thrapsathiri', 'Fer Servadou', 'Mission',\n",
       "       'Kekfrankos', 'Cococciola', 'Blauburgunder', 'Marquette',\n",
       "       'Romorantin', 'Verdejo-Sauvignon Blanc', 'Braucol',\n",
       "       'Malvasia-Viura', 'Savatiano', 'Cabernet Franc-Malbec',\n",
       "       'Pallagrello Nero', 'Rebula', 'Vespolina', 'Shiraz-Malbec', 'Rebo',\n",
       "       'Macabeo-Chardonnay', 'Tempranillo-Malbec', 'Tamjanika',\n",
       "       'Trousseau', 'Bacchus', 'Syrah-Malbec', 'Syrah-Cabernet Franc',\n",
       "       'Macabeo-Moscatel', 'Cariñena-Garnacha', 'Plyto',\n",
       "       'Códega do Larinho', 'Sideritis', 'Çalkarası', 'Azal',\n",
       "       'Moscatel Graúdo', 'Viosinho', 'Moschofilero-Chardonnay',\n",
       "       'Paralleda', 'Rara Neagra', 'Malvasia di Candia', 'Maria Gomes',\n",
       "       'Molinara', 'Malvar', 'Airen', 'Erbaluce', 'Muscat of Alexandria',\n",
       "       'Verdosilla', 'Abouriou', 'Pinot Noir-Syrah', 'Nielluciu',\n",
       "       'Malbec-Bonarda', 'Vespaiolo', 'Malbec-Carménère', 'Biancolella',\n",
       "       'Sauvignon Blanc-Verdejo', 'Aidani', 'Garnacha-Monastrell',\n",
       "       'Vinhão', 'Souzao', 'Roter Traminer', 'Moscatel de Alejandría',\n",
       "       'Rolle', 'Tinta Francisca', 'Malvasia Nera', 'Orangetraube',\n",
       "       'Riesling-Chardonnay', 'Žilavka', 'Portuguiser', 'Listán Negro',\n",
       "       'Pinotage-Merlot', 'Muscadine', 'Maria Gomes-Bical', 'Grolleau',\n",
       "       'Zlahtina', 'Syrah-Grenache-Viognier', 'Jacquez', 'Gouveio',\n",
       "       'Canaiolo', 'Carignan-Syrah', 'Bombino Nero',\n",
       "       'Chardonnay-Riesling', 'Malagouzia-Chardonnay', 'Mavrotragano',\n",
       "       'Bovale', 'Frankovka', 'Shiraz-Roussanne', 'Cabernet-Shiraz',\n",
       "       'Syrah-Carignan', 'Elbling', 'Gragnano', 'Garnacha Blend',\n",
       "       'Pinot Blanc-Chardonnay', 'Schwartzriesling', 'Petit Meslier',\n",
       "       'Bastardo', 'Vidadillo', 'Misket', 'Chardonnay Weissburgunder',\n",
       "       'Other', 'Robola', 'Merlot-Shiraz', 'Malagouzia', 'Folle Blanche',\n",
       "       'Malbec Blend', 'Merlot-Syrah', 'Tamianka', 'Cabernet Pfeffer',\n",
       "       'Morio Muskat', 'Rabigato', 'Babić', 'Roviello', 'Yapincak',\n",
       "       'Sauvignonasse', 'Viognier-Marsanne', 'Mandilaria', 'Meseguera',\n",
       "       'Alvarinho-Chardonnay', 'Saperavi-Merlot', 'Pinot Blanc-Viognier',\n",
       "       'Teroldego Rotaliano', 'Biancu Gentile', 'Garnacha-Tempranillo',\n",
       "       'Xinisteri', 'Sauvignon Blanc-Sauvignon Gris',\n",
       "       'Trebbiano di Lugana', 'Albarossa', 'Ryzlink Rýnský', 'Verdeca',\n",
       "       'Cabernet Sauvignon Grenache', 'Tămâioasă Românească',\n",
       "       'Black Monukka', 'Merlot-Grenache', 'Vranac', 'Tempranillo-Syrah',\n",
       "       'Chardonel', 'Silvaner-Traminer', 'Uvalino',\n",
       "       'Merseguera-Sauvignon Blanc', 'Cabernet-Malbec', 'Boğazkere',\n",
       "       'Gelber Traminer', 'Vermentino Nero', 'Cayuga', 'Tinta Amarela',\n",
       "       'Tinta Negra Mole', 'Moscato Rosa', 'Chelois',\n",
       "       'Sauvignon Blanc-Assyrtiko', nan, 'Muscadel', 'Shiraz-Tempranillo',\n",
       "       'Roussanne-Grenache Blanc', 'Biancale', 'Ansonica',\n",
       "       'Syrah-Bonarda', 'Durif', 'Franconia', 'Malbec-Tempranillo',\n",
       "       'Nasco', 'Monastrell-Petit Verdot', 'Sirica', 'Vital', 'Espadeiro',\n",
       "       'Apple', 'Pinot Grigio-Sauvignon Blanc', 'Blatina', 'Karalahna',\n",
       "       'Feteasca', 'Sercial', 'Valvin Muscat', 'Malvasia Fina',\n",
       "       'Roditis-Moschofilero', 'St. Vincent', 'Chancellor', 'Premsal',\n",
       "       'Jampal', 'Tokay Pinot Gris', 'Colorino', 'Picapoll', 'Blauburger',\n",
       "       'Tinta Madeira', 'Centesimino', 'Grenache Gris', 'Trajadura',\n",
       "       'Merlot-Petite Verdot', 'Ramisco', 'Catalanesca',\n",
       "       'Garnacha-Cabernet', 'Garnacha-Cariñena', 'Gamza',\n",
       "       'Cabernet Franc-Lemberger', 'Chardonnay-Albariño',\n",
       "       'Shiraz-Mourvèdre', 'Mavrokalavryta', 'Favorita', 'Babosa Negro',\n",
       "       'Tintilia ', 'Dafni', 'Petit Courbu', 'Kotsifali', 'Parraleta',\n",
       "       'Moscato di Noto', 'Roscetto', 'Torontel', 'Otskhanuri Sapere',\n",
       "       'Viognier-Valdiguié', 'Trollinger', 'Tsapournakos', 'Francisa',\n",
       "       'Kuntra', 'Pignolo', 'Caprettone', 'Ondenc', 'Athiri',\n",
       "       'Bobal-Cabernet Sauvignon'], dtype=object)"
      ]
     },
     "execution_count": 12,
     "metadata": {},
     "output_type": "execute_result"
    }
   ],
   "source": [
    "wine_df.variety.unique()"
   ]
  },
  {
   "cell_type": "markdown",
   "metadata": {},
   "source": [
    "### Separando Tokaji e Lambrusco"
   ]
  },
  {
   "cell_type": "code",
   "execution_count": 101,
   "metadata": {
    "ExecuteTime": {
     "end_time": "2019-09-10T23:48:16.740686Z",
     "start_time": "2019-09-10T23:48:16.668487Z"
    }
   },
   "outputs": [
    {
     "data": {
      "text/html": [
       "<div>\n",
       "<style scoped>\n",
       "    .dataframe tbody tr th:only-of-type {\n",
       "        vertical-align: middle;\n",
       "    }\n",
       "\n",
       "    .dataframe tbody tr th {\n",
       "        vertical-align: top;\n",
       "    }\n",
       "\n",
       "    .dataframe thead th {\n",
       "        text-align: right;\n",
       "    }\n",
       "</style>\n",
       "<table border=\"1\" class=\"dataframe\">\n",
       "  <thead>\n",
       "    <tr style=\"text-align: right;\">\n",
       "      <th></th>\n",
       "      <th>country</th>\n",
       "      <th>description</th>\n",
       "      <th>designation</th>\n",
       "      <th>points</th>\n",
       "      <th>price</th>\n",
       "      <th>province</th>\n",
       "      <th>region_1</th>\n",
       "      <th>region_2</th>\n",
       "      <th>taster_name</th>\n",
       "      <th>taster_twitter_handle</th>\n",
       "      <th>title</th>\n",
       "      <th>variety</th>\n",
       "      <th>winery</th>\n",
       "    </tr>\n",
       "  </thead>\n",
       "  <tbody>\n",
       "    <tr>\n",
       "      <td>6575</td>\n",
       "      <td>Hungary</td>\n",
       "      <td>This exuberant Tokaji starts with an enticing ...</td>\n",
       "      <td>Mézes Mály Aszú 6 Puttonyos</td>\n",
       "      <td>94</td>\n",
       "      <td>175.0</td>\n",
       "      <td>Tokaji</td>\n",
       "      <td>NaN</td>\n",
       "      <td>NaN</td>\n",
       "      <td>Susan Kostrzewa</td>\n",
       "      <td>@suskostrzewa</td>\n",
       "      <td>Royal Tokaji 1999 Mézes Mály Aszú 6 Puttonyos ...</td>\n",
       "      <td>Tokaji</td>\n",
       "      <td>Royal Tokaji</td>\n",
       "    </tr>\n",
       "    <tr>\n",
       "      <td>9829</td>\n",
       "      <td>Hungary</td>\n",
       "      <td>Honeyed apricot and orange peel on the nose an...</td>\n",
       "      <td>Aszú 5 Puttonyos</td>\n",
       "      <td>89</td>\n",
       "      <td>39.0</td>\n",
       "      <td>Tokaji</td>\n",
       "      <td>NaN</td>\n",
       "      <td>NaN</td>\n",
       "      <td>Susan Kostrzewa</td>\n",
       "      <td>@suskostrzewa</td>\n",
       "      <td>Royal Tokaji 2003 Aszú 5 Puttonyos  (Tokaji)</td>\n",
       "      <td>Tokaji</td>\n",
       "      <td>Royal Tokaji</td>\n",
       "    </tr>\n",
       "    <tr>\n",
       "      <td>25822</td>\n",
       "      <td>Hungary</td>\n",
       "      <td>Aromas of caramelized pineapple, honey and aca...</td>\n",
       "      <td>Aszú 5 Puttonyos</td>\n",
       "      <td>93</td>\n",
       "      <td>50.0</td>\n",
       "      <td>Tokaji</td>\n",
       "      <td>NaN</td>\n",
       "      <td>NaN</td>\n",
       "      <td>Jeff Jenssen</td>\n",
       "      <td>@worldwineguys</td>\n",
       "      <td>Béres 2007 Aszú 5 Puttonyos  (Tokaji)</td>\n",
       "      <td>Tokaji</td>\n",
       "      <td>Béres</td>\n",
       "    </tr>\n",
       "  </tbody>\n",
       "</table>\n",
       "</div>"
      ],
      "text/plain": [
       "       country                                        description  \\\n",
       "6575   Hungary  This exuberant Tokaji starts with an enticing ...   \n",
       "9829   Hungary  Honeyed apricot and orange peel on the nose an...   \n",
       "25822  Hungary  Aromas of caramelized pineapple, honey and aca...   \n",
       "\n",
       "                       designation  points  price province region_1 region_2  \\\n",
       "6575   Mézes Mály Aszú 6 Puttonyos      94  175.0   Tokaji      NaN      NaN   \n",
       "9829              Aszú 5 Puttonyos      89   39.0   Tokaji      NaN      NaN   \n",
       "25822             Aszú 5 Puttonyos      93   50.0   Tokaji      NaN      NaN   \n",
       "\n",
       "           taster_name taster_twitter_handle  \\\n",
       "6575   Susan Kostrzewa         @suskostrzewa   \n",
       "9829   Susan Kostrzewa         @suskostrzewa   \n",
       "25822     Jeff Jenssen        @worldwineguys   \n",
       "\n",
       "                                                   title variety        winery  \n",
       "6575   Royal Tokaji 1999 Mézes Mály Aszú 6 Puttonyos ...  Tokaji  Royal Tokaji  \n",
       "9829        Royal Tokaji 2003 Aszú 5 Puttonyos  (Tokaji)  Tokaji  Royal Tokaji  \n",
       "25822              Béres 2007 Aszú 5 Puttonyos  (Tokaji)  Tokaji         Béres  "
      ]
     },
     "execution_count": 101,
     "metadata": {},
     "output_type": "execute_result"
    }
   ],
   "source": [
    "wine_df_Tokaji = wine_df[wine_df.variety=='Tokaji'].copy()\n",
    "wine_df_Tokaji.head(3)"
   ]
  },
  {
   "cell_type": "code",
   "execution_count": 102,
   "metadata": {
    "ExecuteTime": {
     "end_time": "2019-09-10T23:49:07.028645Z",
     "start_time": "2019-09-10T23:49:06.959098Z"
    }
   },
   "outputs": [
    {
     "data": {
      "text/html": [
       "<div>\n",
       "<style scoped>\n",
       "    .dataframe tbody tr th:only-of-type {\n",
       "        vertical-align: middle;\n",
       "    }\n",
       "\n",
       "    .dataframe tbody tr th {\n",
       "        vertical-align: top;\n",
       "    }\n",
       "\n",
       "    .dataframe thead th {\n",
       "        text-align: right;\n",
       "    }\n",
       "</style>\n",
       "<table border=\"1\" class=\"dataframe\">\n",
       "  <thead>\n",
       "    <tr style=\"text-align: right;\">\n",
       "      <th></th>\n",
       "      <th>country</th>\n",
       "      <th>description</th>\n",
       "      <th>designation</th>\n",
       "      <th>points</th>\n",
       "      <th>price</th>\n",
       "      <th>province</th>\n",
       "      <th>region_1</th>\n",
       "      <th>region_2</th>\n",
       "      <th>taster_name</th>\n",
       "      <th>taster_twitter_handle</th>\n",
       "      <th>title</th>\n",
       "      <th>variety</th>\n",
       "      <th>winery</th>\n",
       "    </tr>\n",
       "  </thead>\n",
       "  <tbody>\n",
       "    <tr>\n",
       "      <td>4539</td>\n",
       "      <td>Italy</td>\n",
       "      <td>Part of the natural wine movement, this frizzy...</td>\n",
       "      <td>Ferrando</td>\n",
       "      <td>82</td>\n",
       "      <td>21.0</td>\n",
       "      <td>Central Italy</td>\n",
       "      <td>Lambrusco dell'Emilia</td>\n",
       "      <td>NaN</td>\n",
       "      <td>NaN</td>\n",
       "      <td>NaN</td>\n",
       "      <td>Quarticello NV Ferrando  (Lambrusco dell'Emilia)</td>\n",
       "      <td>Lambrusco</td>\n",
       "      <td>Quarticello</td>\n",
       "    </tr>\n",
       "    <tr>\n",
       "      <td>6187</td>\n",
       "      <td>Italy</td>\n",
       "      <td>Black-skinned fruit and violet aromas lead the...</td>\n",
       "      <td>Lambrusco I Quercioli Secco</td>\n",
       "      <td>87</td>\n",
       "      <td>14.0</td>\n",
       "      <td>Central Italy</td>\n",
       "      <td>NaN</td>\n",
       "      <td>NaN</td>\n",
       "      <td>Kerin O’Keefe</td>\n",
       "      <td>@kerinokeefe</td>\n",
       "      <td>Medici Ermete NV Lambrusco I Quercioli Secco L...</td>\n",
       "      <td>Lambrusco</td>\n",
       "      <td>Medici Ermete</td>\n",
       "    </tr>\n",
       "    <tr>\n",
       "      <td>9864</td>\n",
       "      <td>Italy</td>\n",
       "      <td>Blackberry jam and plum cake aromas lead the n...</td>\n",
       "      <td>Il Duomo Amabile</td>\n",
       "      <td>86</td>\n",
       "      <td>12.0</td>\n",
       "      <td>Central Italy</td>\n",
       "      <td>Lambrusco di Modena</td>\n",
       "      <td>NaN</td>\n",
       "      <td>Kerin O’Keefe</td>\n",
       "      <td>@kerinokeefe</td>\n",
       "      <td>Cantina di Sorbara NV Il Duomo Amabile  (Lambr...</td>\n",
       "      <td>Lambrusco</td>\n",
       "      <td>Cantina di Sorbara</td>\n",
       "    </tr>\n",
       "  </tbody>\n",
       "</table>\n",
       "</div>"
      ],
      "text/plain": [
       "     country                                        description  \\\n",
       "4539   Italy  Part of the natural wine movement, this frizzy...   \n",
       "6187   Italy  Black-skinned fruit and violet aromas lead the...   \n",
       "9864   Italy  Blackberry jam and plum cake aromas lead the n...   \n",
       "\n",
       "                      designation  points  price       province  \\\n",
       "4539                     Ferrando      82   21.0  Central Italy   \n",
       "6187  Lambrusco I Quercioli Secco      87   14.0  Central Italy   \n",
       "9864             Il Duomo Amabile      86   12.0  Central Italy   \n",
       "\n",
       "                   region_1 region_2    taster_name taster_twitter_handle  \\\n",
       "4539  Lambrusco dell'Emilia      NaN            NaN                   NaN   \n",
       "6187                    NaN      NaN  Kerin O’Keefe          @kerinokeefe   \n",
       "9864    Lambrusco di Modena      NaN  Kerin O’Keefe          @kerinokeefe   \n",
       "\n",
       "                                                  title    variety  \\\n",
       "4539   Quarticello NV Ferrando  (Lambrusco dell'Emilia)  Lambrusco   \n",
       "6187  Medici Ermete NV Lambrusco I Quercioli Secco L...  Lambrusco   \n",
       "9864  Cantina di Sorbara NV Il Duomo Amabile  (Lambr...  Lambrusco   \n",
       "\n",
       "                  winery  \n",
       "4539         Quarticello  \n",
       "6187       Medici Ermete  \n",
       "9864  Cantina di Sorbara  "
      ]
     },
     "execution_count": 102,
     "metadata": {},
     "output_type": "execute_result"
    }
   ],
   "source": [
    "wine_df_Lambrusco = wine_df[wine_df.variety=='Lambrusco'].copy()\n",
    "wine_df_Lambrusco.head(3)"
   ]
  },
  {
   "cell_type": "markdown",
   "metadata": {},
   "source": [
    "### Olhando para a distribuição de *points*"
   ]
  },
  {
   "cell_type": "code",
   "execution_count": 103,
   "metadata": {
    "ExecuteTime": {
     "end_time": "2019-09-10T23:49:26.683592Z",
     "start_time": "2019-09-10T23:49:26.365265Z"
    }
   },
   "outputs": [
    {
     "data": {
      "image/png": "[encoded data removed]",
      "text/plain": [
       "<Figure size 432x288 with 1 Axes>"
      ]
     },
     "metadata": {
      "needs_background": "light"
     },
     "output_type": "display_data"
    }
   ],
   "source": [
    "wine_df.points.hist()\n",
    "plt.show()"
   ]
  },
  {
   "cell_type": "markdown",
   "metadata": {},
   "source": [
    "- Todos os vinhos"
   ]
  },
  {
   "cell_type": "code",
   "execution_count": 104,
   "metadata": {
    "ExecuteTime": {
     "end_time": "2019-09-10T23:52:12.046477Z",
     "start_time": "2019-09-10T23:52:11.721418Z"
    }
   },
   "outputs": [
    {
     "data": {
      "image/png": "[encoded data removed]",
      "text/plain": [
       "<Figure size 432x288 with 1 Axes>"
      ]
     },
     "metadata": {
      "needs_background": "light"
     },
     "output_type": "display_data"
    }
   ],
   "source": [
    "wine_df_Lambrusco.points.hist()\n",
    "plt.show()"
   ]
  },
  {
   "cell_type": "markdown",
   "metadata": {},
   "source": [
    "-  Lambrusco"
   ]
  },
  {
   "cell_type": "code",
   "execution_count": 105,
   "metadata": {
    "ExecuteTime": {
     "end_time": "2019-09-10T23:52:53.336603Z",
     "start_time": "2019-09-10T23:52:53.019887Z"
    }
   },
   "outputs": [
    {
     "data": {
      "image/png": "[encoded data removed]",
      "text/plain": [
       "<Figure size 432x288 with 1 Axes>"
      ]
     },
     "metadata": {
      "needs_background": "light"
     },
     "output_type": "display_data"
    }
   ],
   "source": [
    "wine_df_Tokaji.points.hist()\n",
    "plt.show()"
   ]
  },
  {
   "cell_type": "markdown",
   "metadata": {},
   "source": [
    "Tokaji"
   ]
  },
  {
   "cell_type": "markdown",
   "metadata": {},
   "source": [
    "#### Mas e como está os valores ?"
   ]
  },
  {
   "cell_type": "code",
   "execution_count": 106,
   "metadata": {
    "ExecuteTime": {
     "end_time": "2019-09-10T23:53:23.423781Z",
     "start_time": "2019-09-10T23:53:23.398247Z"
    }
   },
   "outputs": [
    {
     "name": "stdout",
     "output_type": "stream",
     "text": [
      "Total- Média: 88.44713820775404 / STD: 3.039730202916003\n"
     ]
    }
   ],
   "source": [
    "total_avg = wine_df.points.mean()\n",
    "total_std = wine_df.points.std()\n",
    "print(\"Total- Média: {} / STD: {}\".format(total_avg, total_std))"
   ]
  },
  {
   "cell_type": "code",
   "execution_count": 107,
   "metadata": {
    "ExecuteTime": {
     "end_time": "2019-09-10T23:53:57.743213Z",
     "start_time": "2019-09-10T23:53:57.696989Z"
    }
   },
   "outputs": [
    {
     "name": "stdout",
     "output_type": "stream",
     "text": [
      "Tokaji - Média: 90.75 / STD: 2.231201664925252\n"
     ]
    }
   ],
   "source": [
    "tokaji_avg = wine_df_Tokaji.points.mean()\n",
    "tokaji_std = wine_df_Tokaji.points.std()\n",
    "print(\"Tokaji - Média: {} / STD: {}\".format(tokaji_avg, tokaji_std))"
   ]
  },
  {
   "cell_type": "code",
   "execution_count": 108,
   "metadata": {
    "ExecuteTime": {
     "end_time": "2019-09-10T23:54:24.990336Z",
     "start_time": "2019-09-10T23:54:24.930367Z"
    }
   },
   "outputs": [
    {
     "name": "stdout",
     "output_type": "stream",
     "text": [
      "Lambrusco: - Média: 84.72 / STD: 1.9170555653961432\n"
     ]
    }
   ],
   "source": [
    "lambrusco_avg = wine_df_Lambrusco.points.mean()\n",
    "lambrusco_std = wine_df_Lambrusco.points.std()\n",
    "print(\"Lambrusco: - Média: {} / STD: {}\".format(lambrusco_avg, lambrusco_std))"
   ]
  },
  {
   "cell_type": "markdown",
   "metadata": {},
   "source": [
    "- O que entendemos ?\n",
    "- Qual vinho está mais próximo das qualidades totais ?"
   ]
  },
  {
   "cell_type": "markdown",
   "metadata": {},
   "source": [
    "### Comparando os vinhos "
   ]
  },
  {
   "cell_type": "code",
   "execution_count": 109,
   "metadata": {
    "ExecuteTime": {
     "end_time": "2019-09-10T23:57:24.619831Z",
     "start_time": "2019-09-10T23:57:24.599631Z"
    }
   },
   "outputs": [
    {
     "data": {
      "text/plain": [
       "3.145448733382933"
      ]
     },
     "execution_count": 109,
     "metadata": {},
     "output_type": "execute_result"
    }
   ],
   "source": [
    "z = (tokaji_avg - lambrusco_avg) / lambrusco_std\n",
    "z"
   ]
  },
  {
   "cell_type": "markdown",
   "metadata": {},
   "source": [
    "- Encontramos a probabilidade de um vinho `Tokaji` ser similar ao um vinho `Lambrusco`"
   ]
  },
  {
   "cell_type": "code",
   "execution_count": 117,
   "metadata": {
    "ExecuteTime": {
     "end_time": "2019-09-11T00:13:51.202011Z",
     "start_time": "2019-09-11T00:13:51.192244Z"
    }
   },
   "outputs": [
    {
     "data": {
      "text/plain": [
       "0.9991708387177506"
      ]
     },
     "execution_count": 117,
     "metadata": {},
     "output_type": "execute_result"
    }
   ],
   "source": [
    "sct.norm.cdf(z)"
   ]
  },
  {
   "cell_type": "markdown",
   "metadata": {},
   "source": [
    "- Chamando a função de ACUMULADA"
   ]
  },
  {
   "cell_type": "code",
   "execution_count": 112,
   "metadata": {
    "ExecuteTime": {
     "end_time": "2019-09-11T00:00:49.372475Z",
     "start_time": "2019-09-11T00:00:49.361099Z"
    }
   },
   "outputs": [
    {
     "data": {
      "text/plain": [
       "0.0008291612822494132"
      ]
     },
     "execution_count": 112,
     "metadata": {},
     "output_type": "execute_result"
    }
   ],
   "source": [
    "1 - sct.norm.cdf(z)"
   ]
  },
  {
   "cell_type": "markdown",
   "metadata": {
    "ExecuteTime": {
     "end_time": "2019-09-10T20:53:38.256658Z",
     "start_time": "2019-09-10T20:53:38.253932Z"
    }
   },
   "source": [
    "## Falando de funções e distribuções"
   ]
  },
  {
   "cell_type": "markdown",
   "metadata": {},
   "source": [
    "#### Criando um array"
   ]
  },
  {
   "cell_type": "code",
   "execution_count": 118,
   "metadata": {
    "ExecuteTime": {
     "end_time": "2019-09-11T00:16:02.193366Z",
     "start_time": "2019-09-11T00:16:02.177128Z"
    }
   },
   "outputs": [
    {
     "data": {
      "text/plain": [
       "array([-4.   , -3.999, -3.998, ...,  3.997,  3.998,  3.999])"
      ]
     },
     "execution_count": 118,
     "metadata": {},
     "output_type": "execute_result"
    }
   ],
   "source": [
    "var_arrange = np.arange(-4,4,0.001)\n",
    "var_arrange"
   ]
  },
  {
   "cell_type": "code",
   "execution_count": 119,
   "metadata": {
    "ExecuteTime": {
     "end_time": "2019-09-11T00:16:03.364072Z",
     "start_time": "2019-09-11T00:16:03.340467Z"
    }
   },
   "outputs": [
    {
     "data": {
      "text/plain": [
       "numpy.ndarray"
      ]
     },
     "execution_count": 119,
     "metadata": {},
     "output_type": "execute_result"
    }
   ],
   "source": [
    "type(var_arrange)"
   ]
  },
  {
   "cell_type": "code",
   "execution_count": 120,
   "metadata": {
    "ExecuteTime": {
     "end_time": "2019-09-11T00:16:06.146076Z",
     "start_time": "2019-09-11T00:16:06.129369Z"
    }
   },
   "outputs": [
    {
     "data": {
      "text/plain": [
       "8000"
      ]
     },
     "execution_count": 120,
     "metadata": {},
     "output_type": "execute_result"
    }
   ],
   "source": [
    "len(var_arrange)"
   ]
  },
  {
   "cell_type": "code",
   "execution_count": 121,
   "metadata": {
    "ExecuteTime": {
     "end_time": "2019-09-11T00:16:10.664025Z",
     "start_time": "2019-09-11T00:16:10.285376Z"
    }
   },
   "outputs": [
    {
     "data": {
      "text/plain": [
       "(array([800., 800., 800., 800., 800., 800., 800., 800., 800., 800.]),\n",
       " array([-4.0000e+00, -3.2001e+00, -2.4002e+00, -1.6003e+00, -8.0040e-01,\n",
       "        -5.0000e-04,  7.9940e-01,  1.5993e+00,  2.3992e+00,  3.1991e+00,\n",
       "         3.9990e+00]),\n",
       " <a list of 10 Patch objects>)"
      ]
     },
     "execution_count": 121,
     "metadata": {},
     "output_type": "execute_result"
    },
    {
     "data": {
      "image/png": "[encoded data removed]",
      "text/plain": [
       "<Figure size 432x288 with 1 Axes>"
      ]
     },
     "metadata": {
      "needs_background": "light"
     },
     "output_type": "display_data"
    }
   ],
   "source": [
    "plt.hist(var_arrange)"
   ]
  },
  {
   "cell_type": "code",
   "execution_count": 122,
   "metadata": {
    "ExecuteTime": {
     "end_time": "2019-09-11T00:16:27.852780Z",
     "start_time": "2019-09-11T00:16:27.443294Z"
    }
   },
   "outputs": [
    {
     "data": {
      "text/plain": [
       "[<matplotlib.lines.Line2D at 0x7f493826c518>]"
      ]
     },
     "execution_count": 122,
     "metadata": {},
     "output_type": "execute_result"
    },
    {
     "data": {
      "image/png": "[encoded data removed]",
      "text/plain": [
       "<Figure size 432x288 with 1 Axes>"
      ]
     },
     "metadata": {
      "needs_background": "light"
     },
     "output_type": "display_data"
    }
   ],
   "source": [
    "plt.plot(var_arrange)"
   ]
  },
  {
   "cell_type": "markdown",
   "metadata": {},
   "source": [
    "- Temos um array de 8000 posições\n",
    "- Indo de -4 a 4 "
   ]
  },
  {
   "cell_type": "code",
   "execution_count": 126,
   "metadata": {
    "ExecuteTime": {
     "end_time": "2019-09-11T00:19:04.592976Z",
     "start_time": "2019-09-11T00:19:04.529996Z"
    }
   },
   "outputs": [
    {
     "data": {
      "text/plain": [
       "array([0.00013383, 0.00013437, 0.0001349 , ..., 0.00013545, 0.0001349 ,\n",
       "       0.00013437])"
      ]
     },
     "execution_count": 126,
     "metadata": {},
     "output_type": "execute_result"
    }
   ],
   "source": [
    "sct.norm.pdf(var_arrange)"
   ]
  },
  {
   "cell_type": "code",
   "execution_count": 124,
   "metadata": {
    "ExecuteTime": {
     "end_time": "2019-09-11T00:17:31.865157Z",
     "start_time": "2019-09-11T00:17:31.512887Z"
    }
   },
   "outputs": [
    {
     "data": {
      "text/plain": [
       "[<matplotlib.lines.Line2D at 0x7f493823f668>]"
      ]
     },
     "execution_count": 124,
     "metadata": {},
     "output_type": "execute_result"
    },
    {
     "data": {
      "image/png": "[encoded data removed]",
      "text/plain": [
       "<Figure size 432x288 with 1 Axes>"
      ]
     },
     "metadata": {
      "needs_background": "light"
     },
     "output_type": "display_data"
    }
   ],
   "source": [
    "plt.plot(var_arrange, sct.norm.pdf(var_arrange))"
   ]
  },
  {
   "cell_type": "code",
   "execution_count": 127,
   "metadata": {
    "ExecuteTime": {
     "end_time": "2019-09-11T00:19:45.209133Z",
     "start_time": "2019-09-11T00:19:45.159321Z"
    }
   },
   "outputs": [
    {
     "data": {
      "text/plain": [
       "0.08801633169107488"
      ]
     },
     "execution_count": 127,
     "metadata": {},
     "output_type": "execute_result"
    }
   ],
   "source": [
    "sct.norm.pdf(5, 3, 4)"
   ]
  },
  {
   "cell_type": "code",
   "execution_count": 128,
   "metadata": {
    "ExecuteTime": {
     "end_time": "2019-09-11T00:20:12.085092Z",
     "start_time": "2019-09-11T00:20:12.076432Z"
    }
   },
   "outputs": [
    {
     "data": {
      "text/plain": [
       "0.08801633169107488"
      ]
     },
     "execution_count": 128,
     "metadata": {},
     "output_type": "execute_result"
    }
   ],
   "source": [
    "mydist = sct.norm(3, 4)\n",
    "mydist.pdf(5)"
   ]
  },
  {
   "cell_type": "markdown",
   "metadata": {},
   "source": [
    "### Empirico CDF"
   ]
  },
  {
   "cell_type": "code",
   "execution_count": 129,
   "metadata": {
    "ExecuteTime": {
     "end_time": "2019-09-11T00:21:28.264093Z",
     "start_time": "2019-09-11T00:21:27.855334Z"
    }
   },
   "outputs": [
    {
     "data": {
      "text/plain": [
       "[<matplotlib.lines.Line2D at 0x7f493819bba8>]"
      ]
     },
     "execution_count": 129,
     "metadata": {},
     "output_type": "execute_result"
    },
    {
     "data": {
      "image/png": "[encoded data removed]",
      "text/plain": [
       "<Figure size 432x288 with 1 Axes>"
      ]
     },
     "metadata": {
      "needs_background": "light"
     },
     "output_type": "display_data"
    }
   ],
   "source": [
    "ecdf = ECDF(wine_df.points)\n",
    "plt.plot(ecdf.x,ecdf.y)"
   ]
  },
  {
   "cell_type": "code",
   "execution_count": 130,
   "metadata": {
    "ExecuteTime": {
     "end_time": "2019-09-11T00:24:40.924373Z",
     "start_time": "2019-09-11T00:24:40.904008Z"
    }
   },
   "outputs": [
    {
     "data": {
      "text/html": [
       "<div>\n",
       "<style scoped>\n",
       "    .dataframe tbody tr th:only-of-type {\n",
       "        vertical-align: middle;\n",
       "    }\n",
       "\n",
       "    .dataframe tbody tr th {\n",
       "        vertical-align: top;\n",
       "    }\n",
       "\n",
       "    .dataframe thead th {\n",
       "        text-align: right;\n",
       "    }\n",
       "</style>\n",
       "<table border=\"1\" class=\"dataframe\">\n",
       "  <thead>\n",
       "    <tr style=\"text-align: right;\">\n",
       "      <th></th>\n",
       "      <th>points</th>\n",
       "      <th>prob</th>\n",
       "    </tr>\n",
       "  </thead>\n",
       "  <tbody>\n",
       "    <tr>\n",
       "      <td>0</td>\n",
       "      <td>-inf</td>\n",
       "      <td>0.000000</td>\n",
       "    </tr>\n",
       "    <tr>\n",
       "      <td>1</td>\n",
       "      <td>80.0</td>\n",
       "      <td>0.000008</td>\n",
       "    </tr>\n",
       "    <tr>\n",
       "      <td>2</td>\n",
       "      <td>80.0</td>\n",
       "      <td>0.000015</td>\n",
       "    </tr>\n",
       "  </tbody>\n",
       "</table>\n",
       "</div>"
      ],
      "text/plain": [
       "   points      prob\n",
       "0    -inf  0.000000\n",
       "1    80.0  0.000008\n",
       "2    80.0  0.000015"
      ]
     },
     "execution_count": 130,
     "metadata": {},
     "output_type": "execute_result"
    }
   ],
   "source": [
    "ECDF_df = pd.DataFrame({'points': ecdf.x, 'prob': ecdf.y})\n",
    "ECDF_df.head(3)"
   ]
  },
  {
   "cell_type": "code",
   "execution_count": 144,
   "metadata": {
    "ExecuteTime": {
     "end_time": "2019-09-11T00:29:35.782434Z",
     "start_time": "2019-09-11T00:29:35.748800Z"
    }
   },
   "outputs": [
    {
     "data": {
      "text/plain": [
       "0.3961883804848774"
      ]
     },
     "execution_count": 144,
     "metadata": {},
     "output_type": "execute_result"
    }
   ],
   "source": [
    "ECDF_df[(ECDF_df.points >=77) & (ECDF_df.points <=87)].prob.max()"
   ]
  },
  {
   "cell_type": "code",
   "execution_count": 145,
   "metadata": {
    "ExecuteTime": {
     "end_time": "2019-09-11T00:29:41.833062Z",
     "start_time": "2019-09-11T00:29:41.809746Z"
    }
   },
   "outputs": [
    {
     "data": {
      "text/plain": [
       "0.3961853322254024"
      ]
     },
     "execution_count": 145,
     "metadata": {},
     "output_type": "execute_result"
    }
   ],
   "source": [
    "ECDF_df[(ECDF_df.points >=77) & (ECDF_df.points <=87)].prob.count()/ECDF_df.prob.count()"
   ]
  },
  {
   "cell_type": "markdown",
   "metadata": {
    "ExecuteTime": {
     "end_time": "2019-09-10T21:56:59.995988Z",
     "start_time": "2019-09-10T21:56:59.991368Z"
    }
   },
   "source": [
    "### Encontrando a Normal Perfeita!"
   ]
  },
  {
   "cell_type": "code",
   "execution_count": 148,
   "metadata": {
    "ExecuteTime": {
     "end_time": "2019-09-11T00:34:21.375046Z",
     "start_time": "2019-09-11T00:34:21.345902Z"
    }
   },
   "outputs": [
    {
     "data": {
      "text/plain": [
       "array([-0.38532047,  0.2533471 ,  1.47579103])"
      ]
     },
     "execution_count": 148,
     "metadata": {},
     "output_type": "execute_result"
    }
   ],
   "source": [
    "norm.ppf([0.35, 0.60 , 0.93])"
   ]
  },
  {
   "cell_type": "code",
   "execution_count": null,
   "metadata": {},
   "outputs": [],
   "source": []
  }
 ],
 "metadata": {
  "kernelspec": {
   "display_name": "codenation",
   "language": "python",
   "name": "codenation"
  },
  "language_info": {
   "codemirror_mode": {
    "name": "ipython",
    "version": 3
   },
   "file_extension": ".py",
   "mimetype": "text/x-python",
   "name": "python",
   "nbconvert_exporter": "python",
   "pygments_lexer": "ipython3",
   "version": "3.7.3"
  }
 },
 "nbformat": 4,
 "nbformat_minor": 2
}
